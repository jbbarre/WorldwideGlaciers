{
 "metadata": {
  "language_info": {
   "codemirror_mode": {
    "name": "ipython",
    "version": 3
   },
   "file_extension": ".py",
   "mimetype": "text/x-python",
   "name": "python",
   "nbconvert_exporter": "python",
   "pygments_lexer": "ipython3",
   "version": "3.9.5"
  },
  "orig_nbformat": 2,
  "kernelspec": {
   "name": "python3",
   "display_name": "Python 3.9.5 64-bit",
   "metadata": {
    "interpreter": {
     "hash": "fe8c250ecc65b9c312d9907a34fb25acb60718286033c0aea00268d1f05cce17"
    }
   }
  }
 },
 "nbformat": 4,
 "nbformat_minor": 2,
 "cells": [
  {
   "source": [
    "# Reprojection of SHP file\n",
    "from https://pcjericks.github.io/py-gdalogr-cookbook/projection.html\n",
    "\n",
    "27/05/2021"
   ],
   "cell_type": "markdown",
   "metadata": {}
  },
  {
   "cell_type": "code",
   "execution_count": 2,
   "metadata": {},
   "outputs": [],
   "source": [
    "from osgeo import ogr\n",
    "from osgeo import osr\n",
    "import os\n",
    "from os import listdir\n",
    "from os.path import isfile, join\n"
   ]
  },
  {
   "cell_type": "code",
   "execution_count": 14,
   "metadata": {},
   "outputs": [],
   "source": [
    "#change the working directory\n",
    "in_path = 'D:\\\\3_DataViz\\\\2_glaciers\\\\2_shp\\\\rawdata\\\\'\n",
    "out_path = 'D:\\\\3_DataViz\\\\2_glaciers\\\\2_shp\\\\'\n",
    "# get the content of the folder\n",
    "onlyfiles = [f for f in listdir(in_path) if isfile(join(in_path, f)) if os.path.splitext(in_path+f)[1]=='.shp'  ]"
   ]
  },
  {
   "cell_type": "code",
   "execution_count": 3,
   "metadata": {},
   "outputs": [
    {
     "output_type": "execute_result",
     "data": {
      "text/plain": [
       "0"
      ]
     },
     "metadata": {},
     "execution_count": 3
    }
   ],
   "source": [
    "# get the input layer\n",
    "driver = ogr.GetDriverByName('ESRI Shapefile')\n",
    "in_file = r'D:/3_DataViz/2_glaciers/2_shp/RGI_ALASKA_EASTERN_2_Millanetal_v06May2021.shp'\n",
    "inDataSet = driver.Open(in_file)\n",
    "inLayer = inDataSet.GetLayer()\n",
    "\n",
    "# input SpatialReference from Layer\n",
    "spatialRef = inLayer.GetSpatialRef()\n",
    "in_crs = int(spatialRef.GetAttrValue(\"PROJCS|AUTHORITY\", 1))\n",
    "inSpatialRef = osr.SpatialReference()\n",
    "inSpatialRef.ImportFromEPSG(in_crs)"
   ]
  },
  {
   "cell_type": "code",
   "execution_count": 4,
   "metadata": {},
   "outputs": [
    {
     "output_type": "stream",
     "name": "stdout",
     "text": [
      "file xxx reprojected\n"
     ]
    }
   ],
   "source": [
    "# output SpatialReference\n",
    "outSpatialRef = osr.SpatialReference()\n",
    "outSpatialRef.ImportFromEPSG(3857)\n",
    "\n",
    "# create the CoordinateTransformation\n",
    "coordTrans = osr.CoordinateTransformation(inSpatialRef, outSpatialRef)\n",
    "\n",
    "# create the output layer\n",
    "outputShapefile =  r'D:/3_DataViz/2_glaciers/2_shp/data_3857/out_3857.shp'\n",
    "if os.path.exists(outputShapefile):\n",
    "    driver.DeleteDataSource(outputShapefile)\n",
    "outDataSet = driver.CreateDataSource(outputShapefile)\n",
    "outLayer = outDataSet.CreateLayer(\"out_3857\",outSpatialRef, geom_type=ogr.wkbMultiPolygon)\n",
    "\n",
    "# add fields\n",
    "inLayerDefn = inLayer.GetLayerDefn()\n",
    "for i in range(0, inLayerDefn.GetFieldCount()):\n",
    "    fieldDefn = inLayerDefn.GetFieldDefn(i)\n",
    "    outLayer.CreateField(fieldDefn)\n",
    "\n",
    "# get the output layer's feature definition\n",
    "outLayerDefn = outLayer.GetLayerDefn()\n",
    "\n",
    "# loop through the input features\n",
    "inFeature = inLayer.GetNextFeature()\n",
    "while inFeature:\n",
    "    # get the input geometry\n",
    "    geom = inFeature.GetGeometryRef()\n",
    "    # reproject the geometry\n",
    "    geom.Transform(coordTrans)\n",
    "    # create a new feature\n",
    "    outFeature = ogr.Feature(outLayerDefn)\n",
    "    # set the geometry and attribute\n",
    "    outFeature.SetGeometry(geom)\n",
    "    for i in range(0, outLayerDefn.GetFieldCount()):\n",
    "        outFeature.SetField(outLayerDefn.GetFieldDefn(i).GetNameRef(), inFeature.GetField(i))\n",
    "    # add the feature to the shapefile\n",
    "    outLayer.CreateFeature(outFeature)\n",
    "    # dereference the features and get the next input feature\n",
    "    outFeature = None\n",
    "    inFeature = inLayer.GetNextFeature()\n",
    "print('file xxx reprojected')\n",
    "\n",
    "# Save and close the shapefiles\n",
    "inDataSet = None\n",
    "outDataSet = None"
   ]
  },
  {
   "cell_type": "code",
   "execution_count": null,
   "metadata": {},
   "outputs": [],
   "source": []
  }
 ]
}