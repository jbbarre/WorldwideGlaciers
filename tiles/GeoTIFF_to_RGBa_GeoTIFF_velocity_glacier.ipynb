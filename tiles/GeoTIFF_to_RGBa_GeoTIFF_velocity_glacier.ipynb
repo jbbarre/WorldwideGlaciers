{
 "metadata": {
  "language_info": {
   "codemirror_mode": {
    "name": "ipython",
    "version": 3
   },
   "file_extension": ".py",
   "mimetype": "text/x-python",
   "name": "python",
   "nbconvert_exporter": "python",
   "pygments_lexer": "ipython3",
   "version": "3.9.5"
  },
  "orig_nbformat": 2,
  "kernelspec": {
   "name": "python3",
   "display_name": "Python 3.9.5 64-bit",
   "metadata": {
    "interpreter": {
     "hash": "fe8c250ecc65b9c312d9907a34fb25acb60718286033c0aea00268d1f05cce17"
    }
   }
  }
 },
 "nbformat": 4,
 "nbformat_minor": 2,
 "cells": [
  {
   "source": [
    "## Display and Create RGBa GeoTIFF\n",
    " - Create the colormap\n",
    " - Get the RGB band from this colormap\n",
    " - Create a 3 bands (RGB geotiff) from the 1band GeoTIFF \n",
    "\n",
    "Worldwide Glaciers project - IGE - JB Barré - 11/05/2021"
   ],
   "cell_type": "markdown",
   "metadata": {}
  },
  {
   "cell_type": "code",
   "execution_count": 4,
   "metadata": {},
   "outputs": [],
   "source": [
    "from osgeo import gdal,osr\n",
    "import os\n",
    "from os import listdir\n",
    "from os.path import isfile, join\n",
    "import matplotlib.colors as colors \n",
    "import matplotlib.pyplot as plt\n",
    "import numpy as np\n",
    "import rasterio\n",
    "from rasterio.plot import show\n",
    "from cmcrameri import cm\n",
    "import icecream as ic\n"
   ]
  },
  {
   "cell_type": "code",
   "execution_count": 5,
   "metadata": {},
   "outputs": [],
   "source": [
    "# Change the working directory\n",
    "#os.chdir('D:\\\\3_DataViz\\\\2_glaciers\\\\1_data\\\\THICKNESS\\\\data_3857\\\\')\n",
    "os.chdir('D:\\\\3_DataViz\\\\2_glaciers\\\\1_data\\\\VELOCITY\\\\data_3857\\\\1Band\\\\')\n",
    "mypath = os.getcwd()\n",
    "#out_folder = 'D:\\\\3_DataViz\\\\2_glaciers\\\\1_data_himalaya\\\\data_3857\\\\'\n",
    "# Get the content of the folder\n",
    "#onlyfiles = [f for f in listdir(mypath) if isfile(join(mypath, f))]\n",
    "\n",
    "in_file='V_RGI-1.6_2021July01_3857.tif'\n"
   ]
  },
  {
   "cell_type": "code",
   "execution_count": 8,
   "metadata": {},
   "outputs": [],
   "source": [
    "# read GeoTIFF source\n",
    "src = gdal.Open(in_file, gdal.GA_ReadOnly) \n",
    "\n",
    "# Note GetRasterBand() takes band no. starting from 1 not 0\n",
    "band = src.GetRasterBand(1)\n",
    "# set nodata = -9999 \n",
    "band.SetNoDataValue(0)\n",
    "nodata = band.GetNoDataValue()\n",
    "arr = band.ReadAsArray()\n",
    "#arr = np.nan_to_num(arr,posinf=-9999)\n",
    "#Create a masked array for making calculations without nodata values\n",
    "arr_ma = np.ma.masked_where(arr == 0, arr, copy=True)\n"
   ]
  },
  {
   "cell_type": "code",
   "execution_count": 9,
   "metadata": {},
   "outputs": [
    {
     "output_type": "execute_result",
     "data": {
      "text/plain": [
       "masked_array(\n",
       "  data=[[--, --, --, ..., --, --, --],\n",
       "        [--, --, --, ..., --, --, --],\n",
       "        [--, --, --, ..., --, --, --],\n",
       "        ...,\n",
       "        [--, --, --, ..., --, --, --],\n",
       "        [--, --, --, ..., --, --, --],\n",
       "        [--, --, --, ..., --, --, --]],\n",
       "  mask=[[ True,  True,  True, ...,  True,  True,  True],\n",
       "        [ True,  True,  True, ...,  True,  True,  True],\n",
       "        [ True,  True,  True, ...,  True,  True,  True],\n",
       "        ...,\n",
       "        [ True,  True,  True, ...,  True,  True,  True],\n",
       "        [ True,  True,  True, ...,  True,  True,  True],\n",
       "        [ True,  True,  True, ...,  True,  True,  True]],\n",
       "  fill_value=1e+20,\n",
       "  dtype=float32)"
      ]
     },
     "metadata": {},
     "execution_count": 9
    }
   ],
   "source": [
    "arr_ma"
   ]
  },
  {
   "cell_type": "code",
   "execution_count": 17,
   "metadata": {},
   "outputs": [
    {
     "output_type": "stream",
     "name": "stdout",
     "text": [
      "originX: 10348971.271618389\noriginY: 5446966.578699804\npixelWidth: 62.378232538183916\npixelHeight -62.378232538183916\n20888\n33813\n"
     ]
    }
   ],
   "source": [
    "geotransform = src.GetGeoTransform ()\n",
    "print('originX:',geotransform[0])\n",
    "print('originY:',geotransform[3])\n",
    "print('pixelWidth:',geotransform[1])\n",
    "print('pixelHeight',geotransform[5])\n",
    "print(src.RasterXSize)\n",
    "print(src.RasterYSize)"
   ]
  },
  {
   "source": [
    "V_RGI-13-15.2_2021July01_3857.tif -- on clip le raster à y = 4321261\n",
    "\n",
    "-te xmin ymin xmax ymax\n",
    "\n",
    "gdalwarp -te 10348971.271618389 3337771.401886191 11651927.792875974 4321261 .\\V_RGI-13-15.2_2021July01_3857.tif .\\V_RGI-13-15.2_2021July01_3857B.tif\n",
    "\n",
    "gdalwarp -te 10348971.271618389 4321261 11651927.792875974  5446966.578699804 .\\V_RGI-13-15.2_2021July01_3857.tif .\\V_RGI-13-15.2_2021July01_3857A.tif\n",
    "\n",
    "fichier A: 10348971.271618389 4321261 11651927.792875974  5446966.578699804\n",
    "\n",
    "Fichier B: 10348971.271618389 3337771.401886191 11651927.792875974 4321261"
   ],
   "cell_type": "markdown",
   "metadata": {}
  },
  {
   "cell_type": "code",
   "execution_count": 10,
   "metadata": {},
   "outputs": [],
   "source": [
    "#free memory\n",
    "arr = None\n",
    "del arr\n",
    "band = None\n",
    "del band\n",
    "\n",
    "# Scale the velocities by the log of the data.\n",
    "d = np.log(np.clip(arr_ma, 1, 500))\n",
    "# Rescaling (min-max normalization) - 255 for RGB ??\n",
    "scaled_ds = (255*(d - np.amin(d))/np.ptp(d)).astype(np.uint8)"
   ]
  },
  {
   "cell_type": "code",
   "execution_count": 12,
   "metadata": {},
   "outputs": [
    {
     "output_type": "execute_result",
     "data": {
      "text/plain": [
       "masked_array(\n",
       "  data=[[--, --, --, ..., --, --, --],\n",
       "        [--, --, --, ..., --, --, --],\n",
       "        [--, --, --, ..., --, --, --],\n",
       "        ...,\n",
       "        [--, --, --, ..., --, --, --],\n",
       "        [--, --, --, ..., --, --, --],\n",
       "        [--, --, --, ..., --, --, --]],\n",
       "  mask=[[ True,  True,  True, ...,  True,  True,  True],\n",
       "        [ True,  True,  True, ...,  True,  True,  True],\n",
       "        [ True,  True,  True, ...,  True,  True,  True],\n",
       "        ...,\n",
       "        [ True,  True,  True, ...,  True,  True,  True],\n",
       "        [ True,  True,  True, ...,  True,  True,  True],\n",
       "        [ True,  True,  True, ...,  True,  True,  True]],\n",
       "  fill_value=0,\n",
       "  dtype=uint8)"
      ]
     },
     "metadata": {},
     "execution_count": 12
    }
   ],
   "source": [
    "scaled_ds"
   ]
  },
  {
   "cell_type": "code",
   "execution_count": 13,
   "metadata": {},
   "outputs": [],
   "source": [
    "#free memory\n",
    "d = None\n",
    "del d"
   ]
  },
  {
   "source": [
    "## Plot scaled GeoTIFF"
   ],
   "cell_type": "markdown",
   "metadata": {}
  },
  {
   "cell_type": "code",
   "execution_count": 14,
   "metadata": {},
   "outputs": [],
   "source": [
    "# Construct a colormap with log scale \n",
    "# designed by Terry Haran, NSIDC, April 2018. \n",
    "# Construct an RGB table using a log scale between 1 and 500 m/year.\n",
    "vel = np.exp(np.linspace(np.log(1), np.log(500), num=256)) \n",
    "hue = np.arange(256) / 255.0 \n",
    "sat = np.clip(1. / 3 + vel / 187.5, 0, 1) \n",
    "value = np.zeros(256) + 0.75 \n",
    "hsv = np.stack((hue, sat, value), axis=1) \n",
    "rgb = colors.hsv_to_rgb(hsv) \n",
    "# Be sure the first color (the background) is white\n",
    "rgb[0, :] = 1\n",
    "# Create the colormap \n",
    "cmap = colors.ListedColormap(rgb, name='velocity')"
   ]
  },
  {
   "cell_type": "code",
   "execution_count": 10,
   "metadata": {},
   "outputs": [
    {
     "output_type": "display_data",
     "data": {
      "text/plain": "<Figure size 720x864 with 2 Axes>",
      "image/svg+xml": "<?xml version=\"1.0\" encoding=\"utf-8\" standalone=\"no\"?>\r\n<!DOCTYPE svg PUBLIC \"-//W3C//DTD SVG 1.1//EN\"\r\n  \"http://www.w3.org/Graphics/SVG/1.1/DTD/svg11.dtd\">\r\n<svg height=\"613.17825pt\" version=\"1.1\" viewBox=\"0 0 306.125 613.17825\" width=\"306.125pt\" xmlns=\"http://www.w3.org/2000/svg\" xmlns:xlink=\"http://www.w3.org/1999/xlink\">\r\n <metadata>\r\n  <rdf:RDF xmlns:cc=\"http://creativecommons.org/ns#\" xmlns:dc=\"http://purl.org/dc/elements/1.1/\" xmlns:rdf=\"http://www.w3.org/1999/02/22-rdf-syntax-ns#\">\r\n   <cc:Work>\r\n    <dc:type rdf:resource=\"http://purl.org/dc/dcmitype/StillImage\"/>\r\n    <dc:date>2021-07-06T11:28:44.257684</dc:date>\r\n    <dc:format>image/svg+xml</dc:format>\r\n    <dc:creator>\r\n     <cc:Agent>\r\n      <dc:title>Matplotlib v3.4.2, https://matplotlib.org/</dc:title>\r\n     </cc:Agent>\r\n    </dc:creator>\r\n   </cc:Work>\r\n  </rdf:RDF>\r\n </metadata>\r\n <defs>\r\n  <style type=\"text/css\">*{stroke-linecap:butt;stroke-linejoin:round;}</style>\r\n </defs>\r\n <g id=\"figure_1\">\r\n  <g id=\"patch_1\">\r\n   <path d=\"M 0 613.17825 \r\nL 306.125 613.17825 \r\nL 306.125 0 \r\nL 0 0 \r\nz\r\n\" style=\"fill:none;\"/>\r\n  </g>\r\n  <g id=\"axes_1\">\r\n   <g clip-path=\"url(#p0e2cb96fc2)\">\r\n    <image height=\"457\" id=\"image544aad6438\" transform=\"scale(1 -1)translate(0 -457)\" width=\"283\" x=\"8.841382\" xlink:href=\"data:image/png;base64,\r\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\" y=\"-6.824\"/>\r\n   </g>\r\n  </g>\r\n  <g id=\"axes_2\">\r\n   <g id=\"patch_2\">\r\n    <path d=\"M 10.38125 575.622 \r\nL 289.38125 575.622 \r\nL 289.38125 561.672 \r\nL 10.38125 561.672 \r\nz\r\n\" style=\"fill:#ffffff;\"/>\r\n   </g>\r\n   <g id=\"patch_3\">\r\n    <path clip-path=\"url(#p026c0d2b6e)\" d=\"M 10.38125 575.622 \r\nL 11.471094 575.622 \r\nL 288.291406 575.622 \r\nL 289.38125 575.622 \r\nL 289.38125 561.672 \r\nL 288.291406 561.672 \r\nL 11.471094 561.672 \r\nL 10.38125 561.672 \r\nL 10.38125 561.672 \r\nz\r\n\" style=\"fill:#ffffff;stroke:#ffffff;stroke-linejoin:miter;stroke-width:0.01;\"/>\r\n   </g>\r\n   <image height=\"14\" id=\"image01c5ebd18d\" transform=\"scale(1 -1)translate(0 -14)\" width=\"279\" x=\"10\" xlink:href=\"data:image/png;base64,\r\niVBORw0KGgoAAAANSUhEUgAAARcAAAAOCAYAAAAFfVgzAAABJUlEQVR4nO3UTXKDMAxA4YeTnruTm/VeAasL27Uh5GdR7943w8iWBIHAaImI+Ll9A8ACpBdxXH/SP0bOavH8nNP+fYwFAsgE0NY95hc56nmvevKhhzf1fDjKPcVDvtzv/mHi4U9NxOGhj/ty/bF+1jvmW//++vvc8X56PUhELJAh6sNEW2/1ecfa1msx7GPrdaj5sWc81v0eSi63Wq3nte/zCnEv8a//Xj+3DCnDEiWm3HOpvrQUkLaeG4/Lto9Q1pdczrkMx7XGL+BKidR124+1s1jeQAZW4H4Sjzk+6Gmxrc/OeXaN9hvv76V9QZL0rxwukqZwuEiawuEiaQqHi6QpHC6SpnC4SJrC4SJpCoeLpCkcLpKmcLhImsLhImkKh4ukKX4BLjXb2tr+JEQAAAAASUVORK5CYII=\" y=\"-561\"/>\r\n   <g id=\"matplotlib.axis_1\">\r\n    <g id=\"xtick_1\">\r\n     <g id=\"line2d_1\">\r\n      <defs>\r\n       <path d=\"M 0 0 \r\nL 0 3.5 \r\n\" id=\"m169bc76afc\" style=\"stroke:#000000;stroke-width:0.8;\"/>\r\n      </defs>\r\n      <g>\r\n       <use style=\"stroke:#000000;stroke-width:0.8;\" x=\"10.38125\" xlink:href=\"#m169bc76afc\" y=\"575.622\"/>\r\n      </g>\r\n     </g>\r\n     <g id=\"text_1\">\r\n      <!-- 1 -->\r\n      <g transform=\"translate(7.2 590.220437)scale(0.1 -0.1)\">\r\n       <defs>\r\n        <path d=\"M 794 531 \r\nL 1825 531 \r\nL 1825 4091 \r\nL 703 3866 \r\nL 703 4441 \r\nL 1819 4666 \r\nL 2450 4666 \r\nL 2450 531 \r\nL 3481 531 \r\nL 3481 0 \r\nL 794 0 \r\nL 794 531 \r\nz\r\n\" id=\"DejaVuSans-31\" transform=\"scale(0.015625)\"/>\r\n       </defs>\r\n       <use xlink:href=\"#DejaVuSans-31\"/>\r\n      </g>\r\n     </g>\r\n    </g>\r\n    <g id=\"xtick_2\">\r\n     <g id=\"line2d_2\">\r\n      <g>\r\n       <use style=\"stroke:#000000;stroke-width:0.8;\" x=\"113.754018\" xlink:href=\"#m169bc76afc\" y=\"575.622\"/>\r\n      </g>\r\n     </g>\r\n     <g id=\"text_2\">\r\n      <!-- 10 -->\r\n      <g transform=\"translate(107.391518 590.220437)scale(0.1 -0.1)\">\r\n       <defs>\r\n        <path d=\"M 2034 4250 \r\nQ 1547 4250 1301 3770 \r\nQ 1056 3291 1056 2328 \r\nQ 1056 1369 1301 889 \r\nQ 1547 409 2034 409 \r\nQ 2525 409 2770 889 \r\nQ 3016 1369 3016 2328 \r\nQ 3016 3291 2770 3770 \r\nQ 2525 4250 2034 4250 \r\nz\r\nM 2034 4750 \r\nQ 2819 4750 3233 4129 \r\nQ 3647 3509 3647 2328 \r\nQ 3647 1150 3233 529 \r\nQ 2819 -91 2034 -91 \r\nQ 1250 -91 836 529 \r\nQ 422 1150 422 2328 \r\nQ 422 3509 836 4129 \r\nQ 1250 4750 2034 4750 \r\nz\r\n\" id=\"DejaVuSans-30\" transform=\"scale(0.015625)\"/>\r\n       </defs>\r\n       <use xlink:href=\"#DejaVuSans-31\"/>\r\n       <use x=\"63.623047\" xlink:href=\"#DejaVuSans-30\"/>\r\n      </g>\r\n     </g>\r\n    </g>\r\n    <g id=\"xtick_3\">\r\n     <g id=\"line2d_3\">\r\n      <g>\r\n       <use style=\"stroke:#000000;stroke-width:0.8;\" x=\"217.126786\" xlink:href=\"#m169bc76afc\" y=\"575.622\"/>\r\n      </g>\r\n     </g>\r\n     <g id=\"text_3\">\r\n      <!-- 100 -->\r\n      <g transform=\"translate(207.583036 590.220437)scale(0.1 -0.1)\">\r\n       <use xlink:href=\"#DejaVuSans-31\"/>\r\n       <use x=\"63.623047\" xlink:href=\"#DejaVuSans-30\"/>\r\n       <use x=\"127.246094\" xlink:href=\"#DejaVuSans-30\"/>\r\n      </g>\r\n     </g>\r\n    </g>\r\n    <g id=\"xtick_4\">\r\n     <g id=\"line2d_4\">\r\n      <g>\r\n       <use style=\"stroke:#000000;stroke-width:0.8;\" x=\"217.126786\" xlink:href=\"#m169bc76afc\" y=\"575.622\"/>\r\n      </g>\r\n     </g>\r\n     <g id=\"text_4\">\r\n      <!-- 100 -->\r\n      <g transform=\"translate(207.583036 590.220437)scale(0.1 -0.1)\">\r\n       <use xlink:href=\"#DejaVuSans-31\"/>\r\n       <use x=\"63.623047\" xlink:href=\"#DejaVuSans-30\"/>\r\n       <use x=\"127.246094\" xlink:href=\"#DejaVuSans-30\"/>\r\n      </g>\r\n     </g>\r\n    </g>\r\n    <g id=\"xtick_5\">\r\n     <g id=\"line2d_5\">\r\n      <g>\r\n       <use style=\"stroke:#000000;stroke-width:0.8;\" x=\"289.38125\" xlink:href=\"#m169bc76afc\" y=\"575.622\"/>\r\n      </g>\r\n     </g>\r\n     <g id=\"text_5\">\r\n      <!-- 500 -->\r\n      <g transform=\"translate(279.8375 590.220437)scale(0.1 -0.1)\">\r\n       <defs>\r\n        <path d=\"M 691 4666 \r\nL 3169 4666 \r\nL 3169 4134 \r\nL 1269 4134 \r\nL 1269 2991 \r\nQ 1406 3038 1543 3061 \r\nQ 1681 3084 1819 3084 \r\nQ 2600 3084 3056 2656 \r\nQ 3513 2228 3513 1497 \r\nQ 3513 744 3044 326 \r\nQ 2575 -91 1722 -91 \r\nQ 1428 -91 1123 -41 \r\nQ 819 9 494 109 \r\nL 494 744 \r\nQ 775 591 1075 516 \r\nQ 1375 441 1709 441 \r\nQ 2250 441 2565 725 \r\nQ 2881 1009 2881 1497 \r\nQ 2881 1984 2565 2268 \r\nQ 2250 2553 1709 2553 \r\nQ 1456 2553 1204 2497 \r\nQ 953 2441 691 2322 \r\nL 691 4666 \r\nz\r\n\" id=\"DejaVuSans-35\" transform=\"scale(0.015625)\"/>\r\n       </defs>\r\n       <use xlink:href=\"#DejaVuSans-35\"/>\r\n       <use x=\"63.623047\" xlink:href=\"#DejaVuSans-30\"/>\r\n       <use x=\"127.246094\" xlink:href=\"#DejaVuSans-30\"/>\r\n      </g>\r\n     </g>\r\n    </g>\r\n    <g id=\"text_6\">\r\n     <!-- Velocity Magnitude (m/year) -->\r\n     <g transform=\"translate(78.985938 603.898562)scale(0.1 -0.1)\">\r\n      <defs>\r\n       <path d=\"M 1831 0 \r\nL 50 4666 \r\nL 709 4666 \r\nL 2188 738 \r\nL 3669 4666 \r\nL 4325 4666 \r\nL 2547 0 \r\nL 1831 0 \r\nz\r\n\" id=\"DejaVuSans-56\" transform=\"scale(0.015625)\"/>\r\n       <path d=\"M 3597 1894 \r\nL 3597 1613 \r\nL 953 1613 \r\nQ 991 1019 1311 708 \r\nQ 1631 397 2203 397 \r\nQ 2534 397 2845 478 \r\nQ 3156 559 3463 722 \r\nL 3463 178 \r\nQ 3153 47 2828 -22 \r\nQ 2503 -91 2169 -91 \r\nQ 1331 -91 842 396 \r\nQ 353 884 353 1716 \r\nQ 353 2575 817 3079 \r\nQ 1281 3584 2069 3584 \r\nQ 2775 3584 3186 3129 \r\nQ 3597 2675 3597 1894 \r\nz\r\nM 3022 2063 \r\nQ 3016 2534 2758 2815 \r\nQ 2500 3097 2075 3097 \r\nQ 1594 3097 1305 2825 \r\nQ 1016 2553 972 2059 \r\nL 3022 2063 \r\nz\r\n\" id=\"DejaVuSans-65\" transform=\"scale(0.015625)\"/>\r\n       <path d=\"M 603 4863 \r\nL 1178 4863 \r\nL 1178 0 \r\nL 603 0 \r\nL 603 4863 \r\nz\r\n\" id=\"DejaVuSans-6c\" transform=\"scale(0.015625)\"/>\r\n       <path d=\"M 1959 3097 \r\nQ 1497 3097 1228 2736 \r\nQ 959 2375 959 1747 \r\nQ 959 1119 1226 758 \r\nQ 1494 397 1959 397 \r\nQ 2419 397 2687 759 \r\nQ 2956 1122 2956 1747 \r\nQ 2956 2369 2687 2733 \r\nQ 2419 3097 1959 3097 \r\nz\r\nM 1959 3584 \r\nQ 2709 3584 3137 3096 \r\nQ 3566 2609 3566 1747 \r\nQ 3566 888 3137 398 \r\nQ 2709 -91 1959 -91 \r\nQ 1206 -91 779 398 \r\nQ 353 888 353 1747 \r\nQ 353 2609 779 3096 \r\nQ 1206 3584 1959 3584 \r\nz\r\n\" id=\"DejaVuSans-6f\" transform=\"scale(0.015625)\"/>\r\n       <path d=\"M 3122 3366 \r\nL 3122 2828 \r\nQ 2878 2963 2633 3030 \r\nQ 2388 3097 2138 3097 \r\nQ 1578 3097 1268 2742 \r\nQ 959 2388 959 1747 \r\nQ 959 1106 1268 751 \r\nQ 1578 397 2138 397 \r\nQ 2388 397 2633 464 \r\nQ 2878 531 3122 666 \r\nL 3122 134 \r\nQ 2881 22 2623 -34 \r\nQ 2366 -91 2075 -91 \r\nQ 1284 -91 818 406 \r\nQ 353 903 353 1747 \r\nQ 353 2603 823 3093 \r\nQ 1294 3584 2113 3584 \r\nQ 2378 3584 2631 3529 \r\nQ 2884 3475 3122 3366 \r\nz\r\n\" id=\"DejaVuSans-63\" transform=\"scale(0.015625)\"/>\r\n       <path d=\"M 603 3500 \r\nL 1178 3500 \r\nL 1178 0 \r\nL 603 0 \r\nL 603 3500 \r\nz\r\nM 603 4863 \r\nL 1178 4863 \r\nL 1178 4134 \r\nL 603 4134 \r\nL 603 4863 \r\nz\r\n\" id=\"DejaVuSans-69\" transform=\"scale(0.015625)\"/>\r\n       <path d=\"M 1172 4494 \r\nL 1172 3500 \r\nL 2356 3500 \r\nL 2356 3053 \r\nL 1172 3053 \r\nL 1172 1153 \r\nQ 1172 725 1289 603 \r\nQ 1406 481 1766 481 \r\nL 2356 481 \r\nL 2356 0 \r\nL 1766 0 \r\nQ 1100 0 847 248 \r\nQ 594 497 594 1153 \r\nL 594 3053 \r\nL 172 3053 \r\nL 172 3500 \r\nL 594 3500 \r\nL 594 4494 \r\nL 1172 4494 \r\nz\r\n\" id=\"DejaVuSans-74\" transform=\"scale(0.015625)\"/>\r\n       <path d=\"M 2059 -325 \r\nQ 1816 -950 1584 -1140 \r\nQ 1353 -1331 966 -1331 \r\nL 506 -1331 \r\nL 506 -850 \r\nL 844 -850 \r\nQ 1081 -850 1212 -737 \r\nQ 1344 -625 1503 -206 \r\nL 1606 56 \r\nL 191 3500 \r\nL 800 3500 \r\nL 1894 763 \r\nL 2988 3500 \r\nL 3597 3500 \r\nL 2059 -325 \r\nz\r\n\" id=\"DejaVuSans-79\" transform=\"scale(0.015625)\"/>\r\n       <path id=\"DejaVuSans-20\" transform=\"scale(0.015625)\"/>\r\n       <path d=\"M 628 4666 \r\nL 1569 4666 \r\nL 2759 1491 \r\nL 3956 4666 \r\nL 4897 4666 \r\nL 4897 0 \r\nL 4281 0 \r\nL 4281 4097 \r\nL 3078 897 \r\nL 2444 897 \r\nL 1241 4097 \r\nL 1241 0 \r\nL 628 0 \r\nL 628 4666 \r\nz\r\n\" id=\"DejaVuSans-4d\" transform=\"scale(0.015625)\"/>\r\n       <path d=\"M 2194 1759 \r\nQ 1497 1759 1228 1600 \r\nQ 959 1441 959 1056 \r\nQ 959 750 1161 570 \r\nQ 1363 391 1709 391 \r\nQ 2188 391 2477 730 \r\nQ 2766 1069 2766 1631 \r\nL 2766 1759 \r\nL 2194 1759 \r\nz\r\nM 3341 1997 \r\nL 3341 0 \r\nL 2766 0 \r\nL 2766 531 \r\nQ 2569 213 2275 61 \r\nQ 1981 -91 1556 -91 \r\nQ 1019 -91 701 211 \r\nQ 384 513 384 1019 \r\nQ 384 1609 779 1909 \r\nQ 1175 2209 1959 2209 \r\nL 2766 2209 \r\nL 2766 2266 \r\nQ 2766 2663 2505 2880 \r\nQ 2244 3097 1772 3097 \r\nQ 1472 3097 1187 3025 \r\nQ 903 2953 641 2809 \r\nL 641 3341 \r\nQ 956 3463 1253 3523 \r\nQ 1550 3584 1831 3584 \r\nQ 2591 3584 2966 3190 \r\nQ 3341 2797 3341 1997 \r\nz\r\n\" id=\"DejaVuSans-61\" transform=\"scale(0.015625)\"/>\r\n       <path d=\"M 2906 1791 \r\nQ 2906 2416 2648 2759 \r\nQ 2391 3103 1925 3103 \r\nQ 1463 3103 1205 2759 \r\nQ 947 2416 947 1791 \r\nQ 947 1169 1205 825 \r\nQ 1463 481 1925 481 \r\nQ 2391 481 2648 825 \r\nQ 2906 1169 2906 1791 \r\nz\r\nM 3481 434 \r\nQ 3481 -459 3084 -895 \r\nQ 2688 -1331 1869 -1331 \r\nQ 1566 -1331 1297 -1286 \r\nQ 1028 -1241 775 -1147 \r\nL 775 -588 \r\nQ 1028 -725 1275 -790 \r\nQ 1522 -856 1778 -856 \r\nQ 2344 -856 2625 -561 \r\nQ 2906 -266 2906 331 \r\nL 2906 616 \r\nQ 2728 306 2450 153 \r\nQ 2172 0 1784 0 \r\nQ 1141 0 747 490 \r\nQ 353 981 353 1791 \r\nQ 353 2603 747 3093 \r\nQ 1141 3584 1784 3584 \r\nQ 2172 3584 2450 3431 \r\nQ 2728 3278 2906 2969 \r\nL 2906 3500 \r\nL 3481 3500 \r\nL 3481 434 \r\nz\r\n\" id=\"DejaVuSans-67\" transform=\"scale(0.015625)\"/>\r\n       <path d=\"M 3513 2113 \r\nL 3513 0 \r\nL 2938 0 \r\nL 2938 2094 \r\nQ 2938 2591 2744 2837 \r\nQ 2550 3084 2163 3084 \r\nQ 1697 3084 1428 2787 \r\nQ 1159 2491 1159 1978 \r\nL 1159 0 \r\nL 581 0 \r\nL 581 3500 \r\nL 1159 3500 \r\nL 1159 2956 \r\nQ 1366 3272 1645 3428 \r\nQ 1925 3584 2291 3584 \r\nQ 2894 3584 3203 3211 \r\nQ 3513 2838 3513 2113 \r\nz\r\n\" id=\"DejaVuSans-6e\" transform=\"scale(0.015625)\"/>\r\n       <path d=\"M 544 1381 \r\nL 544 3500 \r\nL 1119 3500 \r\nL 1119 1403 \r\nQ 1119 906 1312 657 \r\nQ 1506 409 1894 409 \r\nQ 2359 409 2629 706 \r\nQ 2900 1003 2900 1516 \r\nL 2900 3500 \r\nL 3475 3500 \r\nL 3475 0 \r\nL 2900 0 \r\nL 2900 538 \r\nQ 2691 219 2414 64 \r\nQ 2138 -91 1772 -91 \r\nQ 1169 -91 856 284 \r\nQ 544 659 544 1381 \r\nz\r\nM 1991 3584 \r\nL 1991 3584 \r\nz\r\n\" id=\"DejaVuSans-75\" transform=\"scale(0.015625)\"/>\r\n       <path d=\"M 2906 2969 \r\nL 2906 4863 \r\nL 3481 4863 \r\nL 3481 0 \r\nL 2906 0 \r\nL 2906 525 \r\nQ 2725 213 2448 61 \r\nQ 2172 -91 1784 -91 \r\nQ 1150 -91 751 415 \r\nQ 353 922 353 1747 \r\nQ 353 2572 751 3078 \r\nQ 1150 3584 1784 3584 \r\nQ 2172 3584 2448 3432 \r\nQ 2725 3281 2906 2969 \r\nz\r\nM 947 1747 \r\nQ 947 1113 1208 752 \r\nQ 1469 391 1925 391 \r\nQ 2381 391 2643 752 \r\nQ 2906 1113 2906 1747 \r\nQ 2906 2381 2643 2742 \r\nQ 2381 3103 1925 3103 \r\nQ 1469 3103 1208 2742 \r\nQ 947 2381 947 1747 \r\nz\r\n\" id=\"DejaVuSans-64\" transform=\"scale(0.015625)\"/>\r\n       <path d=\"M 1984 4856 \r\nQ 1566 4138 1362 3434 \r\nQ 1159 2731 1159 2009 \r\nQ 1159 1288 1364 580 \r\nQ 1569 -128 1984 -844 \r\nL 1484 -844 \r\nQ 1016 -109 783 600 \r\nQ 550 1309 550 2009 \r\nQ 550 2706 781 3412 \r\nQ 1013 4119 1484 4856 \r\nL 1984 4856 \r\nz\r\n\" id=\"DejaVuSans-28\" transform=\"scale(0.015625)\"/>\r\n       <path d=\"M 3328 2828 \r\nQ 3544 3216 3844 3400 \r\nQ 4144 3584 4550 3584 \r\nQ 5097 3584 5394 3201 \r\nQ 5691 2819 5691 2113 \r\nL 5691 0 \r\nL 5113 0 \r\nL 5113 2094 \r\nQ 5113 2597 4934 2840 \r\nQ 4756 3084 4391 3084 \r\nQ 3944 3084 3684 2787 \r\nQ 3425 2491 3425 1978 \r\nL 3425 0 \r\nL 2847 0 \r\nL 2847 2094 \r\nQ 2847 2600 2669 2842 \r\nQ 2491 3084 2119 3084 \r\nQ 1678 3084 1418 2786 \r\nQ 1159 2488 1159 1978 \r\nL 1159 0 \r\nL 581 0 \r\nL 581 3500 \r\nL 1159 3500 \r\nL 1159 2956 \r\nQ 1356 3278 1631 3431 \r\nQ 1906 3584 2284 3584 \r\nQ 2666 3584 2933 3390 \r\nQ 3200 3197 3328 2828 \r\nz\r\n\" id=\"DejaVuSans-6d\" transform=\"scale(0.015625)\"/>\r\n       <path d=\"M 1625 4666 \r\nL 2156 4666 \r\nL 531 -594 \r\nL 0 -594 \r\nL 1625 4666 \r\nz\r\n\" id=\"DejaVuSans-2f\" transform=\"scale(0.015625)\"/>\r\n       <path d=\"M 2631 2963 \r\nQ 2534 3019 2420 3045 \r\nQ 2306 3072 2169 3072 \r\nQ 1681 3072 1420 2755 \r\nQ 1159 2438 1159 1844 \r\nL 1159 0 \r\nL 581 0 \r\nL 581 3500 \r\nL 1159 3500 \r\nL 1159 2956 \r\nQ 1341 3275 1631 3429 \r\nQ 1922 3584 2338 3584 \r\nQ 2397 3584 2469 3576 \r\nQ 2541 3569 2628 3553 \r\nL 2631 2963 \r\nz\r\n\" id=\"DejaVuSans-72\" transform=\"scale(0.015625)\"/>\r\n       <path d=\"M 513 4856 \r\nL 1013 4856 \r\nQ 1481 4119 1714 3412 \r\nQ 1947 2706 1947 2009 \r\nQ 1947 1309 1714 600 \r\nQ 1481 -109 1013 -844 \r\nL 513 -844 \r\nQ 928 -128 1133 580 \r\nQ 1338 1288 1338 2009 \r\nQ 1338 2731 1133 3434 \r\nQ 928 4138 513 4856 \r\nz\r\n\" id=\"DejaVuSans-29\" transform=\"scale(0.015625)\"/>\r\n      </defs>\r\n      <use xlink:href=\"#DejaVuSans-56\"/>\r\n      <use x=\"60.658203\" xlink:href=\"#DejaVuSans-65\"/>\r\n      <use x=\"122.181641\" xlink:href=\"#DejaVuSans-6c\"/>\r\n      <use x=\"149.964844\" xlink:href=\"#DejaVuSans-6f\"/>\r\n      <use x=\"211.146484\" xlink:href=\"#DejaVuSans-63\"/>\r\n      <use x=\"266.126953\" xlink:href=\"#DejaVuSans-69\"/>\r\n      <use x=\"293.910156\" xlink:href=\"#DejaVuSans-74\"/>\r\n      <use x=\"333.119141\" xlink:href=\"#DejaVuSans-79\"/>\r\n      <use x=\"392.298828\" xlink:href=\"#DejaVuSans-20\"/>\r\n      <use x=\"424.085938\" xlink:href=\"#DejaVuSans-4d\"/>\r\n      <use x=\"510.365234\" xlink:href=\"#DejaVuSans-61\"/>\r\n      <use x=\"571.644531\" xlink:href=\"#DejaVuSans-67\"/>\r\n      <use x=\"635.121094\" xlink:href=\"#DejaVuSans-6e\"/>\r\n      <use x=\"698.5\" xlink:href=\"#DejaVuSans-69\"/>\r\n      <use x=\"726.283203\" xlink:href=\"#DejaVuSans-74\"/>\r\n      <use x=\"765.492188\" xlink:href=\"#DejaVuSans-75\"/>\r\n      <use x=\"828.871094\" xlink:href=\"#DejaVuSans-64\"/>\r\n      <use x=\"892.347656\" xlink:href=\"#DejaVuSans-65\"/>\r\n      <use x=\"953.871094\" xlink:href=\"#DejaVuSans-20\"/>\r\n      <use x=\"985.658203\" xlink:href=\"#DejaVuSans-28\"/>\r\n      <use x=\"1024.671875\" xlink:href=\"#DejaVuSans-6d\"/>\r\n      <use x=\"1122.083984\" xlink:href=\"#DejaVuSans-2f\"/>\r\n      <use x=\"1155.775391\" xlink:href=\"#DejaVuSans-79\"/>\r\n      <use x=\"1214.955078\" xlink:href=\"#DejaVuSans-65\"/>\r\n      <use x=\"1276.478516\" xlink:href=\"#DejaVuSans-61\"/>\r\n      <use x=\"1337.757812\" xlink:href=\"#DejaVuSans-72\"/>\r\n      <use x=\"1378.871094\" xlink:href=\"#DejaVuSans-29\"/>\r\n     </g>\r\n    </g>\r\n   </g>\r\n   <g id=\"matplotlib.axis_2\"/>\r\n   <g id=\"LineCollection_1\"/>\r\n   <g id=\"patch_4\">\r\n    <path d=\"M 10.38125 575.622 \r\nL 11.471094 575.622 \r\nL 288.291406 575.622 \r\nL 289.38125 575.622 \r\nL 289.38125 561.672 \r\nL 288.291406 561.672 \r\nL 11.471094 561.672 \r\nL 10.38125 561.672 \r\nz\r\n\" style=\"fill:none;stroke:#000000;stroke-linecap:square;stroke-linejoin:miter;stroke-width:0.8;\"/>\r\n   </g>\r\n  </g>\r\n </g>\r\n <defs>\r\n  <clipPath id=\"p0e2cb96fc2\">\r\n   <rect height=\"456.624\" width=\"282.079736\" x=\"8.841382\" y=\"7.2\"/>\r\n  </clipPath>\r\n  <clipPath id=\"p026c0d2b6e\">\r\n   <rect height=\"13.95\" width=\"279\" x=\"10.38125\" y=\"561.672\"/>\r\n  </clipPath>\r\n </defs>\r\n</svg>\r\n",
      "image/png": "[encoded data removed]"
     },
     "metadata": {
      "needs_background": "light"
     }
    }
   ],
   "source": [
    "plt.figure(figsize=(10,12))\n",
    "fig = plt.imshow(scaled_ds, origin='lower', cmap=cmap)\n",
    "# plt.title(file_in)\n",
    "# Hide the axes and remove the space around them\n",
    "plt.axis('off')\n",
    "fig.axes.get_xaxis().set_visible(False)\n",
    "fig.axes.get_yaxis().set_visible(False)\n",
    "tickval = [1, 10, 100, 100, 500]\n",
    "t = np.log(tickval)\n",
    "cb = plt.colorbar(fig, ticks=255*(t - t[0])/(t[-1] - t[0]), shrink=0.5,orientation=\"horizontal\")\n",
    "cb.set_label('Velocity Magnitude (m/year)')\n",
    "cb.ax.set_xticklabels(tickval)\n",
    "plt.show()"
   ]
  },
  {
   "source": [
    "## From 1 band GeoTIFF to RGBa GeoTIFF"
   ],
   "cell_type": "markdown",
   "metadata": {}
  },
  {
   "cell_type": "code",
   "execution_count": 15,
   "metadata": {},
   "outputs": [],
   "source": [
    "# apply the colormap to the scaled data\n",
    "rgb_ds = cmap(scaled_ds)\n",
    "rgb_ds.shape\n",
    "\n",
    "#free memory\n",
    "scaled_ds = None\n",
    "del scaled_ds"
   ]
  },
  {
   "cell_type": "code",
   "execution_count": 16,
   "metadata": {},
   "outputs": [
    {
     "output_type": "execute_result",
     "data": {
      "text/plain": [
       "array([[[0.75      , 0.50776255, 0.4958002 , 1.        ],\n",
       "        [0.75      , 0.50776255, 0.4958002 , 1.        ],\n",
       "        [0.75      , 0.50776255, 0.4958002 , 1.        ],\n",
       "        ...,\n",
       "        [0.75      , 0.50776255, 0.4958002 , 1.        ],\n",
       "        [0.75      , 0.50776255, 0.4958002 , 1.        ],\n",
       "        [0.75      , 0.50776255, 0.4958002 , 1.        ]],\n",
       "\n",
       "       [[0.75      , 0.50776255, 0.4958002 , 1.        ],\n",
       "        [0.75      , 0.50776255, 0.4958002 , 1.        ],\n",
       "        [0.75      , 0.50776255, 0.4958002 , 1.        ],\n",
       "        ...,\n",
       "        [0.75      , 0.50776255, 0.4958002 , 1.        ],\n",
       "        [0.75      , 0.50776255, 0.4958002 , 1.        ],\n",
       "        [0.75      , 0.50776255, 0.4958002 , 1.        ]],\n",
       "\n",
       "       [[0.75      , 0.50776255, 0.4958002 , 1.        ],\n",
       "        [0.75      , 0.50776255, 0.4958002 , 1.        ],\n",
       "        [0.75      , 0.50776255, 0.4958002 , 1.        ],\n",
       "        ...,\n",
       "        [0.75      , 0.50776255, 0.4958002 , 1.        ],\n",
       "        [0.75      , 0.50776255, 0.4958002 , 1.        ],\n",
       "        [0.75      , 0.50776255, 0.4958002 , 1.        ]],\n",
       "\n",
       "       ...,\n",
       "\n",
       "       [[0.75      , 0.50776255, 0.4958002 , 1.        ],\n",
       "        [0.75      , 0.50776255, 0.4958002 , 1.        ],\n",
       "        [0.75      , 0.50776255, 0.4958002 , 1.        ],\n",
       "        ...,\n",
       "        [0.75      , 0.50776255, 0.4958002 , 1.        ],\n",
       "        [0.75      , 0.50776255, 0.4958002 , 1.        ],\n",
       "        [0.75      , 0.50776255, 0.4958002 , 1.        ]],\n",
       "\n",
       "       [[0.75      , 0.50776255, 0.4958002 , 1.        ],\n",
       "        [0.75      , 0.50776255, 0.4958002 , 1.        ],\n",
       "        [0.75      , 0.50776255, 0.4958002 , 1.        ],\n",
       "        ...,\n",
       "        [0.75      , 0.50776255, 0.4958002 , 1.        ],\n",
       "        [0.75      , 0.50776255, 0.4958002 , 1.        ],\n",
       "        [0.75      , 0.50776255, 0.4958002 , 1.        ]],\n",
       "\n",
       "       [[0.75      , 0.50776255, 0.4958002 , 1.        ],\n",
       "        [0.75      , 0.50776255, 0.4958002 , 1.        ],\n",
       "        [0.75      , 0.50776255, 0.4958002 , 1.        ],\n",
       "        ...,\n",
       "        [0.75      , 0.50776255, 0.4958002 , 1.        ],\n",
       "        [0.75      , 0.50776255, 0.4958002 , 1.        ],\n",
       "        [0.75      , 0.50776255, 0.4958002 , 1.        ]]])"
      ]
     },
     "metadata": {},
     "execution_count": 16
    }
   ],
   "source": [
    "rgb_ds"
   ]
  },
  {
   "cell_type": "code",
   "execution_count": 17,
   "metadata": {},
   "outputs": [],
   "source": [
    "# rescale RGB values from [0,1] to [0,255]\n",
    "data_array_scaled = np.interp(rgb_ds,(0, 1), (0, 255))\n",
    "#free memory\n",
    "rgb_ds = None\n",
    "del rgb_ds"
   ]
  },
  {
   "cell_type": "code",
   "execution_count": 18,
   "metadata": {},
   "outputs": [
    {
     "output_type": "execute_result",
     "data": {
      "text/plain": [
       "array([[[191.25      , 129.47944913, 126.42905156, 255.        ],\n",
       "        [191.25      , 129.47944913, 126.42905156, 255.        ],\n",
       "        [191.25      , 129.47944913, 126.42905156, 255.        ],\n",
       "        ...,\n",
       "        [191.25      , 129.47944913, 126.42905156, 255.        ],\n",
       "        [191.25      , 129.47944913, 126.42905156, 255.        ],\n",
       "        [191.25      , 129.47944913, 126.42905156, 255.        ]],\n",
       "\n",
       "       [[191.25      , 129.47944913, 126.42905156, 255.        ],\n",
       "        [191.25      , 129.47944913, 126.42905156, 255.        ],\n",
       "        [191.25      , 129.47944913, 126.42905156, 255.        ],\n",
       "        ...,\n",
       "        [191.25      , 129.47944913, 126.42905156, 255.        ],\n",
       "        [191.25      , 129.47944913, 126.42905156, 255.        ],\n",
       "        [191.25      , 129.47944913, 126.42905156, 255.        ]],\n",
       "\n",
       "       [[191.25      , 129.47944913, 126.42905156, 255.        ],\n",
       "        [191.25      , 129.47944913, 126.42905156, 255.        ],\n",
       "        [191.25      , 129.47944913, 126.42905156, 255.        ],\n",
       "        ...,\n",
       "        [191.25      , 129.47944913, 126.42905156, 255.        ],\n",
       "        [191.25      , 129.47944913, 126.42905156, 255.        ],\n",
       "        [191.25      , 129.47944913, 126.42905156, 255.        ]],\n",
       "\n",
       "       ...,\n",
       "\n",
       "       [[191.25      , 129.47944913, 126.42905156, 255.        ],\n",
       "        [191.25      , 129.47944913, 126.42905156, 255.        ],\n",
       "        [191.25      , 129.47944913, 126.42905156, 255.        ],\n",
       "        ...,\n",
       "        [191.25      , 129.47944913, 126.42905156, 255.        ],\n",
       "        [191.25      , 129.47944913, 126.42905156, 255.        ],\n",
       "        [191.25      , 129.47944913, 126.42905156, 255.        ]],\n",
       "\n",
       "       [[191.25      , 129.47944913, 126.42905156, 255.        ],\n",
       "        [191.25      , 129.47944913, 126.42905156, 255.        ],\n",
       "        [191.25      , 129.47944913, 126.42905156, 255.        ],\n",
       "        ...,\n",
       "        [191.25      , 129.47944913, 126.42905156, 255.        ],\n",
       "        [191.25      , 129.47944913, 126.42905156, 255.        ],\n",
       "        [191.25      , 129.47944913, 126.42905156, 255.        ]],\n",
       "\n",
       "       [[191.25      , 129.47944913, 126.42905156, 255.        ],\n",
       "        [191.25      , 129.47944913, 126.42905156, 255.        ],\n",
       "        [191.25      , 129.47944913, 126.42905156, 255.        ],\n",
       "        ...,\n",
       "        [191.25      , 129.47944913, 126.42905156, 255.        ],\n",
       "        [191.25      , 129.47944913, 126.42905156, 255.        ],\n",
       "        [191.25      , 129.47944913, 126.42905156, 255.        ]]])"
      ]
     },
     "metadata": {},
     "execution_count": 18
    }
   ],
   "source": [
    "data_array_scaled"
   ]
  },
  {
   "cell_type": "code",
   "execution_count": 11,
   "metadata": {},
   "outputs": [
    {
     "output_type": "stream",
     "name": "stdout",
     "text": [
      "originX: -17430884.00370195\noriginY: 9340621.888272002\npixelWidth: 103.3619022032304\npixelHeight -103.3619022032304\n3\n23147\n12667\n"
     ]
    }
   ],
   "source": [
    "geotransform = src.GetGeoTransform ()\n",
    "print('originX:',geotransform[0])\n",
    "print('originY:',geotransform[3])\n",
    "print('pixelWidth:',geotransform[1])\n",
    "print('pixelHeight',geotransform[5])\n",
    "print(data_array_scaled.shape[2]-1)\n",
    "print(src.RasterXSize)\n",
    "print(src.RasterYSize)"
   ]
  },
  {
   "cell_type": "code",
   "execution_count": 19,
   "metadata": {},
   "outputs": [],
   "source": [
    "# Creates a copy of a 3-band raster with values from array'''\n",
    "# GeoTIFF creation options : https://gdal.org/drivers/raster/gtiff.html\n",
    "\n",
    "# Destination file name \n",
    "rgb_file = in_file.replace('.tif','_rgb.tif')\n",
    "\n",
    "# info from source\n",
    "geotransform = src.GetGeoTransform ()\n",
    "originX = geotransform[0]\n",
    "originY = geotransform[3]\n",
    "pixelWidth = geotransform[1]\n",
    "pixelHeight = geotransform[5]\n",
    "bands = data_array_scaled.shape[2]-1\n",
    "rows = src.RasterXSize\n",
    "cols = src.RasterYSize\n",
    "\n",
    "# Get geotiff driver\n",
    "driver = gdal.GetDriverByName('GTiff')\n",
    "options = ['PHOTOMETRIC=RGB', 'PROFILE=GeoTIFF','COMPRESS=LZW','PREDICTOR=2']\n",
    "\n",
    "# Create new raster\n",
    "dest = driver.Create(rgb_file,rows,cols, bands, eType=gdal.GDT_Byte,options=options)\n",
    "dest.SetGeoTransform((originX, pixelWidth, 0, originY, 0, pixelHeight))\n",
    "\n",
    "# Set metadata.SetGeoTransform(src.GetGeoTransform())\n",
    "dest.GetRasterBand(1).WriteArray(np.around(data_array_scaled[:,:,0]))\n",
    "#dest.GetRasterBand(1).SetNoDataValue(255)\n",
    "dest.GetRasterBand(2).WriteArray(np.around(data_array_scaled[:,:,1]))\n",
    "#dest.GetRasterBand(2).SetNoDataValue(255)\n",
    "dest.GetRasterBand(3).WriteArray(np.around(data_array_scaled[:,:,2]))\n",
    "#dest.GetRasterBand(3).SetNoDataValue(255)\n",
    "# loop through bands and write new values\n",
    "#or bix in range(3):\n",
    "#    destb = dest.GetRasterBand(bix+1)\n",
    "#    #Write array\n",
    "#    destb.WriteArray(rgb_data[:,:,bix])\n",
    "\n",
    "destSRS = osr.SpatialReference()\n",
    "destSRS.ImportFromEPSG(3857)\n",
    "dest.SetProjection(destSRS.ExportToWkt())\n",
    "\n",
    "# Close dataset\n",
    "data_array_scaled= None\n",
    "del data_array_scaled\n",
    "dest = None\n",
    "del dest"
   ]
  },
  {
   "cell_type": "code",
   "execution_count": 20,
   "metadata": {},
   "outputs": [],
   "source": [
    "# add an alpha band to the RGB for transparent background in Mapbox\n",
    "rgba_file =rgb_file.replace('rgb','rgba')\n",
    "rgba_comp_file =rgba_file.replace('.tif','_comp.tif')\n",
    "\n",
    "#create alpha band\n",
    "options = gdal.WarpOptions(format='GTiff', srcNodata=255, dstAlpha=True)\n",
    "dest = gdal.Warp(rgba_file, rgb_file, options=options)\n",
    "dest = None\n",
    "\n",
    "#compress GTiff\n",
    "ds = gdal.Open(rgba_file)\n",
    "tr_options = gdal.TranslateOptions(creationOptions = ['COMPRESS=LZW','PREDICTOR=2'])\n",
    "ds = gdal.Translate(rgba_comp_file, ds,options=tr_options)\n",
    "ds = None"
   ]
  },
  {
   "cell_type": "code",
   "execution_count": 14,
   "metadata": {},
   "outputs": [],
   "source": [
    "#delete uncompress rgba_file\n",
    "os.remove(rgba_file)\n",
    "os.remove(rgb_file)"
   ]
  },
  {
   "cell_type": "code",
   "execution_count": 21,
   "metadata": {},
   "outputs": [
    {
     "output_type": "display_data",
     "data": {
      "text/plain": "<Figure size 432x288 with 1 Axes>",
      "image/svg+xml": "<?xml version=\"1.0\" encoding=\"utf-8\" standalone=\"no\"?>\r\n<!DOCTYPE svg PUBLIC \"-//W3C//DTD SVG 1.1//EN\"\r\n  \"http://www.w3.org/Graphics/SVG/1.1/DTD/svg11.dtd\">\r\n<svg height=\"271.794688pt\" version=\"1.1\" viewBox=\"0 0 314.617978 271.794688\" width=\"314.617978pt\" xmlns=\"http://www.w3.org/2000/svg\" xmlns:xlink=\"http://www.w3.org/1999/xlink\">\r\n <metadata>\r\n  <rdf:RDF xmlns:cc=\"http://creativecommons.org/ns#\" xmlns:dc=\"http://purl.org/dc/elements/1.1/\" xmlns:rdf=\"http://www.w3.org/1999/02/22-rdf-syntax-ns#\">\r\n   <cc:Work>\r\n    <dc:type rdf:resource=\"http://purl.org/dc/dcmitype/StillImage\"/>\r\n    <dc:date>2021-07-07T08:35:57.687368</dc:date>\r\n    <dc:format>image/svg+xml</dc:format>\r\n    <dc:creator>\r\n     <cc:Agent>\r\n      <dc:title>Matplotlib v3.4.2, https://matplotlib.org/</dc:title>\r\n     </cc:Agent>\r\n    </dc:creator>\r\n   </cc:Work>\r\n  </rdf:RDF>\r\n </metadata>\r\n <defs>\r\n  <style type=\"text/css\">*{stroke-linecap:butt;stroke-linejoin:round;}</style>\r\n </defs>\r\n <g id=\"figure_1\">\r\n  <g id=\"patch_1\">\r\n   <path d=\"M 0 271.794688 \r\nL 314.617978 271.794688 \r\nL 314.617978 0 \r\nL 0 0 \r\nz\r\n\" style=\"fill:none;\"/>\r\n  </g>\r\n  <g id=\"axes_1\">\r\n   <g id=\"patch_2\">\r\n    <path d=\"M 36.465625 235.238438 \r\nL 307.417978 235.238438 \r\nL 307.417978 17.798438 \r\nL 36.465625 17.798438 \r\nz\r\n\" style=\"fill:#ffffff;\"/>\r\n   </g>\r\n   <g clip-path=\"url(#p0040ae59ff)\">\r\n    <image height=\"218\" id=\"imagec3027456f7\" transform=\"scale(1 -1)translate(0 -218)\" width=\"271\" x=\"36.465625\" xlink:href=\"data:image/png;base64,\r\niVBORw0KGgoAAAANSUhEUgAAAQ8AAADaCAYAAAC4q8cWAAACsklEQVR4nO3UwQ2AIADAQGRwEidzNJmBfozJ3QR99Xru9Q6AQ/PrAOCfzANIzANIzANIzANIzANIzANIzANIzANIzANIzANIzANIzANIzANIzANIzANIzANIzANIzANIzANIzANIzANIzANIzANIzANIzANIzANIzANIzANIzANIzANIzANIzANIzANIzANIzANIzANIzANIzANIzANIzANIzANIzANIzANIzANIzANIzANIzANIzANIzANIzANIzANIzANIzANIzANIzANIzANIzANIzANIzANIzANIzANIzANIzANIzANIzANIzANIzANIzANIzANIzANIzANIzANIzANIzANIzANIzANIzANIzANIzANIzANIzANIzANIzANIzANIzANIzANIzANIzANIzANIzANIzANIzANIzANIzANIzANIzANIzANIzANIzANIzANIzANIzANIzANIzANIzANIzANIzANIzANIzANIzANIzANIzANIzANIzANIzANIzANIzANIzANIzANIzANIzANIzANIzANIzANIzANIzANIzANIzANIzANIzANIzANIzANIzANIzANIzANIzANIzANIzANIzANIzANIzANIzANIzANIzANIzANIzANIzANIzANIzANIzANIzANIzANIzANIzANIzANIzANIzANIzANIzANIzANIzANIzANIzANIzANIzANIzANIzANIzANIzANIzANIzANIzANIzANIzANIzANIzANIzANIzANIzANIzANIzANIzANIzANIzANIzANIzANIzANIzANIzANIzANIzANIzANIzANIzANIzANIzANIzANIzANIzANIzANIzANIzANIzANIzANIzANIzANIzANIzANIzANIzANIzANIzANIzANIzANIzANIzANINikQBHEyBoYSAAAAAElFTkSuQmCC\" y=\"-17.238438\"/>\r\n   </g>\r\n   <g id=\"matplotlib.axis_1\">\r\n    <g id=\"xtick_1\">\r\n     <g id=\"line2d_1\">\r\n      <defs>\r\n       <path d=\"M 0 0 \r\nL 0 3.5 \r\n\" id=\"m93940700c4\" style=\"stroke:#000000;stroke-width:0.8;\"/>\r\n      </defs>\r\n      <g>\r\n       <use style=\"stroke:#000000;stroke-width:0.8;\" x=\"66.074185\" xlink:href=\"#m93940700c4\" y=\"235.238438\"/>\r\n      </g>\r\n     </g>\r\n     <g id=\"text_1\">\r\n      <!-- −1.534 -->\r\n      <g transform=\"translate(47.570279 249.836875)scale(0.1 -0.1)\">\r\n       <defs>\r\n        <path d=\"M 678 2272 \r\nL 4684 2272 \r\nL 4684 1741 \r\nL 678 1741 \r\nL 678 2272 \r\nz\r\n\" id=\"DejaVuSans-2212\" transform=\"scale(0.015625)\"/>\r\n        <path d=\"M 794 531 \r\nL 1825 531 \r\nL 1825 4091 \r\nL 703 3866 \r\nL 703 4441 \r\nL 1819 4666 \r\nL 2450 4666 \r\nL 2450 531 \r\nL 3481 531 \r\nL 3481 0 \r\nL 794 0 \r\nL 794 531 \r\nz\r\n\" id=\"DejaVuSans-31\" transform=\"scale(0.015625)\"/>\r\n        <path d=\"M 684 794 \r\nL 1344 794 \r\nL 1344 0 \r\nL 684 0 \r\nL 684 794 \r\nz\r\n\" id=\"DejaVuSans-2e\" transform=\"scale(0.015625)\"/>\r\n        <path d=\"M 691 4666 \r\nL 3169 4666 \r\nL 3169 4134 \r\nL 1269 4134 \r\nL 1269 2991 \r\nQ 1406 3038 1543 3061 \r\nQ 1681 3084 1819 3084 \r\nQ 2600 3084 3056 2656 \r\nQ 3513 2228 3513 1497 \r\nQ 3513 744 3044 326 \r\nQ 2575 -91 1722 -91 \r\nQ 1428 -91 1123 -41 \r\nQ 819 9 494 109 \r\nL 494 744 \r\nQ 775 591 1075 516 \r\nQ 1375 441 1709 441 \r\nQ 2250 441 2565 725 \r\nQ 2881 1009 2881 1497 \r\nQ 2881 1984 2565 2268 \r\nQ 2250 2553 1709 2553 \r\nQ 1456 2553 1204 2497 \r\nQ 953 2441 691 2322 \r\nL 691 4666 \r\nz\r\n\" id=\"DejaVuSans-35\" transform=\"scale(0.015625)\"/>\r\n        <path d=\"M 2597 2516 \r\nQ 3050 2419 3304 2112 \r\nQ 3559 1806 3559 1356 \r\nQ 3559 666 3084 287 \r\nQ 2609 -91 1734 -91 \r\nQ 1441 -91 1130 -33 \r\nQ 819 25 488 141 \r\nL 488 750 \r\nQ 750 597 1062 519 \r\nQ 1375 441 1716 441 \r\nQ 2309 441 2620 675 \r\nQ 2931 909 2931 1356 \r\nQ 2931 1769 2642 2001 \r\nQ 2353 2234 1838 2234 \r\nL 1294 2234 \r\nL 1294 2753 \r\nL 1863 2753 \r\nQ 2328 2753 2575 2939 \r\nQ 2822 3125 2822 3475 \r\nQ 2822 3834 2567 4026 \r\nQ 2313 4219 1838 4219 \r\nQ 1578 4219 1281 4162 \r\nQ 984 4106 628 3988 \r\nL 628 4550 \r\nQ 988 4650 1302 4700 \r\nQ 1616 4750 1894 4750 \r\nQ 2613 4750 3031 4423 \r\nQ 3450 4097 3450 3541 \r\nQ 3450 3153 3228 2886 \r\nQ 3006 2619 2597 2516 \r\nz\r\n\" id=\"DejaVuSans-33\" transform=\"scale(0.015625)\"/>\r\n        <path d=\"M 2419 4116 \r\nL 825 1625 \r\nL 2419 1625 \r\nL 2419 4116 \r\nz\r\nM 2253 4666 \r\nL 3047 4666 \r\nL 3047 1625 \r\nL 3713 1625 \r\nL 3713 1100 \r\nL 3047 1100 \r\nL 3047 0 \r\nL 2419 0 \r\nL 2419 1100 \r\nL 313 1100 \r\nL 313 1709 \r\nL 2253 4666 \r\nz\r\n\" id=\"DejaVuSans-34\" transform=\"scale(0.015625)\"/>\r\n       </defs>\r\n       <use xlink:href=\"#DejaVuSans-2212\"/>\r\n       <use x=\"83.789062\" xlink:href=\"#DejaVuSans-31\"/>\r\n       <use x=\"147.412109\" xlink:href=\"#DejaVuSans-2e\"/>\r\n       <use x=\"179.199219\" xlink:href=\"#DejaVuSans-35\"/>\r\n       <use x=\"242.822266\" xlink:href=\"#DejaVuSans-33\"/>\r\n       <use x=\"306.445312\" xlink:href=\"#DejaVuSans-34\"/>\r\n      </g>\r\n     </g>\r\n    </g>\r\n    <g id=\"xtick_2\">\r\n     <g id=\"line2d_2\">\r\n      <g>\r\n       <use style=\"stroke:#000000;stroke-width:0.8;\" x=\"96.812608\" xlink:href=\"#m93940700c4\" y=\"235.238438\"/>\r\n      </g>\r\n     </g>\r\n     <g id=\"text_2\">\r\n      <!-- −1.532 -->\r\n      <g transform=\"translate(78.308701 249.836875)scale(0.1 -0.1)\">\r\n       <defs>\r\n        <path d=\"M 1228 531 \r\nL 3431 531 \r\nL 3431 0 \r\nL 469 0 \r\nL 469 531 \r\nQ 828 903 1448 1529 \r\nQ 2069 2156 2228 2338 \r\nQ 2531 2678 2651 2914 \r\nQ 2772 3150 2772 3378 \r\nQ 2772 3750 2511 3984 \r\nQ 2250 4219 1831 4219 \r\nQ 1534 4219 1204 4116 \r\nQ 875 4013 500 3803 \r\nL 500 4441 \r\nQ 881 4594 1212 4672 \r\nQ 1544 4750 1819 4750 \r\nQ 2544 4750 2975 4387 \r\nQ 3406 4025 3406 3419 \r\nQ 3406 3131 3298 2873 \r\nQ 3191 2616 2906 2266 \r\nQ 2828 2175 2409 1742 \r\nQ 1991 1309 1228 531 \r\nz\r\n\" id=\"DejaVuSans-32\" transform=\"scale(0.015625)\"/>\r\n       </defs>\r\n       <use xlink:href=\"#DejaVuSans-2212\"/>\r\n       <use x=\"83.789062\" xlink:href=\"#DejaVuSans-31\"/>\r\n       <use x=\"147.412109\" xlink:href=\"#DejaVuSans-2e\"/>\r\n       <use x=\"179.199219\" xlink:href=\"#DejaVuSans-35\"/>\r\n       <use x=\"242.822266\" xlink:href=\"#DejaVuSans-33\"/>\r\n       <use x=\"306.445312\" xlink:href=\"#DejaVuSans-32\"/>\r\n      </g>\r\n     </g>\r\n    </g>\r\n    <g id=\"xtick_3\">\r\n     <g id=\"line2d_3\">\r\n      <g>\r\n       <use style=\"stroke:#000000;stroke-width:0.8;\" x=\"127.55103\" xlink:href=\"#m93940700c4\" y=\"235.238438\"/>\r\n      </g>\r\n     </g>\r\n     <g id=\"text_3\">\r\n      <!-- −1.530 -->\r\n      <g transform=\"translate(109.047124 249.836875)scale(0.1 -0.1)\">\r\n       <defs>\r\n        <path d=\"M 2034 4250 \r\nQ 1547 4250 1301 3770 \r\nQ 1056 3291 1056 2328 \r\nQ 1056 1369 1301 889 \r\nQ 1547 409 2034 409 \r\nQ 2525 409 2770 889 \r\nQ 3016 1369 3016 2328 \r\nQ 3016 3291 2770 3770 \r\nQ 2525 4250 2034 4250 \r\nz\r\nM 2034 4750 \r\nQ 2819 4750 3233 4129 \r\nQ 3647 3509 3647 2328 \r\nQ 3647 1150 3233 529 \r\nQ 2819 -91 2034 -91 \r\nQ 1250 -91 836 529 \r\nQ 422 1150 422 2328 \r\nQ 422 3509 836 4129 \r\nQ 1250 4750 2034 4750 \r\nz\r\n\" id=\"DejaVuSans-30\" transform=\"scale(0.015625)\"/>\r\n       </defs>\r\n       <use xlink:href=\"#DejaVuSans-2212\"/>\r\n       <use x=\"83.789062\" xlink:href=\"#DejaVuSans-31\"/>\r\n       <use x=\"147.412109\" xlink:href=\"#DejaVuSans-2e\"/>\r\n       <use x=\"179.199219\" xlink:href=\"#DejaVuSans-35\"/>\r\n       <use x=\"242.822266\" xlink:href=\"#DejaVuSans-33\"/>\r\n       <use x=\"306.445312\" xlink:href=\"#DejaVuSans-30\"/>\r\n      </g>\r\n     </g>\r\n    </g>\r\n    <g id=\"xtick_4\">\r\n     <g id=\"line2d_4\">\r\n      <g>\r\n       <use style=\"stroke:#000000;stroke-width:0.8;\" x=\"158.289453\" xlink:href=\"#m93940700c4\" y=\"235.238438\"/>\r\n      </g>\r\n     </g>\r\n     <g id=\"text_4\">\r\n      <!-- −1.528 -->\r\n      <g transform=\"translate(139.785546 249.836875)scale(0.1 -0.1)\">\r\n       <defs>\r\n        <path d=\"M 2034 2216 \r\nQ 1584 2216 1326 1975 \r\nQ 1069 1734 1069 1313 \r\nQ 1069 891 1326 650 \r\nQ 1584 409 2034 409 \r\nQ 2484 409 2743 651 \r\nQ 3003 894 3003 1313 \r\nQ 3003 1734 2745 1975 \r\nQ 2488 2216 2034 2216 \r\nz\r\nM 1403 2484 \r\nQ 997 2584 770 2862 \r\nQ 544 3141 544 3541 \r\nQ 544 4100 942 4425 \r\nQ 1341 4750 2034 4750 \r\nQ 2731 4750 3128 4425 \r\nQ 3525 4100 3525 3541 \r\nQ 3525 3141 3298 2862 \r\nQ 3072 2584 2669 2484 \r\nQ 3125 2378 3379 2068 \r\nQ 3634 1759 3634 1313 \r\nQ 3634 634 3220 271 \r\nQ 2806 -91 2034 -91 \r\nQ 1263 -91 848 271 \r\nQ 434 634 434 1313 \r\nQ 434 1759 690 2068 \r\nQ 947 2378 1403 2484 \r\nz\r\nM 1172 3481 \r\nQ 1172 3119 1398 2916 \r\nQ 1625 2713 2034 2713 \r\nQ 2441 2713 2670 2916 \r\nQ 2900 3119 2900 3481 \r\nQ 2900 3844 2670 4047 \r\nQ 2441 4250 2034 4250 \r\nQ 1625 4250 1398 4047 \r\nQ 1172 3844 1172 3481 \r\nz\r\n\" id=\"DejaVuSans-38\" transform=\"scale(0.015625)\"/>\r\n       </defs>\r\n       <use xlink:href=\"#DejaVuSans-2212\"/>\r\n       <use x=\"83.789062\" xlink:href=\"#DejaVuSans-31\"/>\r\n       <use x=\"147.412109\" xlink:href=\"#DejaVuSans-2e\"/>\r\n       <use x=\"179.199219\" xlink:href=\"#DejaVuSans-35\"/>\r\n       <use x=\"242.822266\" xlink:href=\"#DejaVuSans-32\"/>\r\n       <use x=\"306.445312\" xlink:href=\"#DejaVuSans-38\"/>\r\n      </g>\r\n     </g>\r\n    </g>\r\n    <g id=\"xtick_5\">\r\n     <g id=\"line2d_5\">\r\n      <g>\r\n       <use style=\"stroke:#000000;stroke-width:0.8;\" x=\"189.027875\" xlink:href=\"#m93940700c4\" y=\"235.238438\"/>\r\n      </g>\r\n     </g>\r\n     <g id=\"text_5\">\r\n      <!-- −1.526 -->\r\n      <g transform=\"translate(170.523969 249.836875)scale(0.1 -0.1)\">\r\n       <defs>\r\n        <path d=\"M 2113 2584 \r\nQ 1688 2584 1439 2293 \r\nQ 1191 2003 1191 1497 \r\nQ 1191 994 1439 701 \r\nQ 1688 409 2113 409 \r\nQ 2538 409 2786 701 \r\nQ 3034 994 3034 1497 \r\nQ 3034 2003 2786 2293 \r\nQ 2538 2584 2113 2584 \r\nz\r\nM 3366 4563 \r\nL 3366 3988 \r\nQ 3128 4100 2886 4159 \r\nQ 2644 4219 2406 4219 \r\nQ 1781 4219 1451 3797 \r\nQ 1122 3375 1075 2522 \r\nQ 1259 2794 1537 2939 \r\nQ 1816 3084 2150 3084 \r\nQ 2853 3084 3261 2657 \r\nQ 3669 2231 3669 1497 \r\nQ 3669 778 3244 343 \r\nQ 2819 -91 2113 -91 \r\nQ 1303 -91 875 529 \r\nQ 447 1150 447 2328 \r\nQ 447 3434 972 4092 \r\nQ 1497 4750 2381 4750 \r\nQ 2619 4750 2861 4703 \r\nQ 3103 4656 3366 4563 \r\nz\r\n\" id=\"DejaVuSans-36\" transform=\"scale(0.015625)\"/>\r\n       </defs>\r\n       <use xlink:href=\"#DejaVuSans-2212\"/>\r\n       <use x=\"83.789062\" xlink:href=\"#DejaVuSans-31\"/>\r\n       <use x=\"147.412109\" xlink:href=\"#DejaVuSans-2e\"/>\r\n       <use x=\"179.199219\" xlink:href=\"#DejaVuSans-35\"/>\r\n       <use x=\"242.822266\" xlink:href=\"#DejaVuSans-32\"/>\r\n       <use x=\"306.445312\" xlink:href=\"#DejaVuSans-36\"/>\r\n      </g>\r\n     </g>\r\n    </g>\r\n    <g id=\"xtick_6\">\r\n     <g id=\"line2d_6\">\r\n      <g>\r\n       <use style=\"stroke:#000000;stroke-width:0.8;\" x=\"219.766297\" xlink:href=\"#m93940700c4\" y=\"235.238438\"/>\r\n      </g>\r\n     </g>\r\n     <g id=\"text_6\">\r\n      <!-- −1.524 -->\r\n      <g transform=\"translate(201.262391 249.836875)scale(0.1 -0.1)\">\r\n       <use xlink:href=\"#DejaVuSans-2212\"/>\r\n       <use x=\"83.789062\" xlink:href=\"#DejaVuSans-31\"/>\r\n       <use x=\"147.412109\" xlink:href=\"#DejaVuSans-2e\"/>\r\n       <use x=\"179.199219\" xlink:href=\"#DejaVuSans-35\"/>\r\n       <use x=\"242.822266\" xlink:href=\"#DejaVuSans-32\"/>\r\n       <use x=\"306.445312\" xlink:href=\"#DejaVuSans-34\"/>\r\n      </g>\r\n     </g>\r\n    </g>\r\n    <g id=\"xtick_7\">\r\n     <g id=\"line2d_7\">\r\n      <g>\r\n       <use style=\"stroke:#000000;stroke-width:0.8;\" x=\"250.50472\" xlink:href=\"#m93940700c4\" y=\"235.238438\"/>\r\n      </g>\r\n     </g>\r\n     <g id=\"text_7\">\r\n      <!-- −1.522 -->\r\n      <g transform=\"translate(232.000814 249.836875)scale(0.1 -0.1)\">\r\n       <use xlink:href=\"#DejaVuSans-2212\"/>\r\n       <use x=\"83.789062\" xlink:href=\"#DejaVuSans-31\"/>\r\n       <use x=\"147.412109\" xlink:href=\"#DejaVuSans-2e\"/>\r\n       <use x=\"179.199219\" xlink:href=\"#DejaVuSans-35\"/>\r\n       <use x=\"242.822266\" xlink:href=\"#DejaVuSans-32\"/>\r\n       <use x=\"306.445312\" xlink:href=\"#DejaVuSans-32\"/>\r\n      </g>\r\n     </g>\r\n    </g>\r\n    <g id=\"xtick_8\">\r\n     <g id=\"line2d_8\">\r\n      <g>\r\n       <use style=\"stroke:#000000;stroke-width:0.8;\" x=\"281.243142\" xlink:href=\"#m93940700c4\" y=\"235.238438\"/>\r\n      </g>\r\n     </g>\r\n     <g id=\"text_8\">\r\n      <!-- −1.520 -->\r\n      <g transform=\"translate(262.739236 249.836875)scale(0.1 -0.1)\">\r\n       <use xlink:href=\"#DejaVuSans-2212\"/>\r\n       <use x=\"83.789062\" xlink:href=\"#DejaVuSans-31\"/>\r\n       <use x=\"147.412109\" xlink:href=\"#DejaVuSans-2e\"/>\r\n       <use x=\"179.199219\" xlink:href=\"#DejaVuSans-35\"/>\r\n       <use x=\"242.822266\" xlink:href=\"#DejaVuSans-32\"/>\r\n       <use x=\"306.445312\" xlink:href=\"#DejaVuSans-30\"/>\r\n      </g>\r\n     </g>\r\n    </g>\r\n    <g id=\"text_9\">\r\n     <!-- 1e7 -->\r\n     <g transform=\"translate(288.539853 262.515)scale(0.1 -0.1)\">\r\n      <defs>\r\n       <path d=\"M 3597 1894 \r\nL 3597 1613 \r\nL 953 1613 \r\nQ 991 1019 1311 708 \r\nQ 1631 397 2203 397 \r\nQ 2534 397 2845 478 \r\nQ 3156 559 3463 722 \r\nL 3463 178 \r\nQ 3153 47 2828 -22 \r\nQ 2503 -91 2169 -91 \r\nQ 1331 -91 842 396 \r\nQ 353 884 353 1716 \r\nQ 353 2575 817 3079 \r\nQ 1281 3584 2069 3584 \r\nQ 2775 3584 3186 3129 \r\nQ 3597 2675 3597 1894 \r\nz\r\nM 3022 2063 \r\nQ 3016 2534 2758 2815 \r\nQ 2500 3097 2075 3097 \r\nQ 1594 3097 1305 2825 \r\nQ 1016 2553 972 2059 \r\nL 3022 2063 \r\nz\r\n\" id=\"DejaVuSans-65\" transform=\"scale(0.015625)\"/>\r\n       <path d=\"M 525 4666 \r\nL 3525 4666 \r\nL 3525 4397 \r\nL 1831 0 \r\nL 1172 0 \r\nL 2766 4134 \r\nL 525 4134 \r\nL 525 4666 \r\nz\r\n\" id=\"DejaVuSans-37\" transform=\"scale(0.015625)\"/>\r\n      </defs>\r\n      <use xlink:href=\"#DejaVuSans-31\"/>\r\n      <use x=\"63.623047\" xlink:href=\"#DejaVuSans-65\"/>\r\n      <use x=\"125.146484\" xlink:href=\"#DejaVuSans-37\"/>\r\n     </g>\r\n    </g>\r\n   </g>\r\n   <g id=\"matplotlib.axis_2\">\r\n    <g id=\"ytick_1\">\r\n     <g id=\"line2d_9\">\r\n      <defs>\r\n       <path d=\"M 0 0 \r\nL -3.5 0 \r\n\" id=\"mf6fdc7714e\" style=\"stroke:#000000;stroke-width:0.8;\"/>\r\n      </defs>\r\n      <g>\r\n       <use style=\"stroke:#000000;stroke-width:0.8;\" x=\"36.465625\" xlink:href=\"#mf6fdc7714e\" y=\"225.422136\"/>\r\n      </g>\r\n     </g>\r\n     <g id=\"text_10\">\r\n      <!-- 8.04 -->\r\n      <g transform=\"translate(7.2 229.221354)scale(0.1 -0.1)\">\r\n       <use xlink:href=\"#DejaVuSans-38\"/>\r\n       <use x=\"63.623047\" xlink:href=\"#DejaVuSans-2e\"/>\r\n       <use x=\"95.410156\" xlink:href=\"#DejaVuSans-30\"/>\r\n       <use x=\"159.033203\" xlink:href=\"#DejaVuSans-34\"/>\r\n      </g>\r\n     </g>\r\n    </g>\r\n    <g id=\"ytick_2\">\r\n     <g id=\"line2d_10\">\r\n      <g>\r\n       <use style=\"stroke:#000000;stroke-width:0.8;\" x=\"36.465625\" xlink:href=\"#mf6fdc7714e\" y=\"194.683713\"/>\r\n      </g>\r\n     </g>\r\n     <g id=\"text_11\">\r\n      <!-- 8.06 -->\r\n      <g transform=\"translate(7.2 198.482932)scale(0.1 -0.1)\">\r\n       <use xlink:href=\"#DejaVuSans-38\"/>\r\n       <use x=\"63.623047\" xlink:href=\"#DejaVuSans-2e\"/>\r\n       <use x=\"95.410156\" xlink:href=\"#DejaVuSans-30\"/>\r\n       <use x=\"159.033203\" xlink:href=\"#DejaVuSans-36\"/>\r\n      </g>\r\n     </g>\r\n    </g>\r\n    <g id=\"ytick_3\">\r\n     <g id=\"line2d_11\">\r\n      <g>\r\n       <use style=\"stroke:#000000;stroke-width:0.8;\" x=\"36.465625\" xlink:href=\"#mf6fdc7714e\" y=\"163.945291\"/>\r\n      </g>\r\n     </g>\r\n     <g id=\"text_12\">\r\n      <!-- 8.08 -->\r\n      <g transform=\"translate(7.2 167.74451)scale(0.1 -0.1)\">\r\n       <use xlink:href=\"#DejaVuSans-38\"/>\r\n       <use x=\"63.623047\" xlink:href=\"#DejaVuSans-2e\"/>\r\n       <use x=\"95.410156\" xlink:href=\"#DejaVuSans-30\"/>\r\n       <use x=\"159.033203\" xlink:href=\"#DejaVuSans-38\"/>\r\n      </g>\r\n     </g>\r\n    </g>\r\n    <g id=\"ytick_4\">\r\n     <g id=\"line2d_12\">\r\n      <g>\r\n       <use style=\"stroke:#000000;stroke-width:0.8;\" x=\"36.465625\" xlink:href=\"#mf6fdc7714e\" y=\"133.206868\"/>\r\n      </g>\r\n     </g>\r\n     <g id=\"text_13\">\r\n      <!-- 8.10 -->\r\n      <g transform=\"translate(7.2 137.006087)scale(0.1 -0.1)\">\r\n       <use xlink:href=\"#DejaVuSans-38\"/>\r\n       <use x=\"63.623047\" xlink:href=\"#DejaVuSans-2e\"/>\r\n       <use x=\"95.410156\" xlink:href=\"#DejaVuSans-31\"/>\r\n       <use x=\"159.033203\" xlink:href=\"#DejaVuSans-30\"/>\r\n      </g>\r\n     </g>\r\n    </g>\r\n    <g id=\"ytick_5\">\r\n     <g id=\"line2d_13\">\r\n      <g>\r\n       <use style=\"stroke:#000000;stroke-width:0.8;\" x=\"36.465625\" xlink:href=\"#mf6fdc7714e\" y=\"102.468446\"/>\r\n      </g>\r\n     </g>\r\n     <g id=\"text_14\">\r\n      <!-- 8.12 -->\r\n      <g transform=\"translate(7.2 106.267665)scale(0.1 -0.1)\">\r\n       <use xlink:href=\"#DejaVuSans-38\"/>\r\n       <use x=\"63.623047\" xlink:href=\"#DejaVuSans-2e\"/>\r\n       <use x=\"95.410156\" xlink:href=\"#DejaVuSans-31\"/>\r\n       <use x=\"159.033203\" xlink:href=\"#DejaVuSans-32\"/>\r\n      </g>\r\n     </g>\r\n    </g>\r\n    <g id=\"ytick_6\">\r\n     <g id=\"line2d_14\">\r\n      <g>\r\n       <use style=\"stroke:#000000;stroke-width:0.8;\" x=\"36.465625\" xlink:href=\"#mf6fdc7714e\" y=\"71.730024\"/>\r\n      </g>\r\n     </g>\r\n     <g id=\"text_15\">\r\n      <!-- 8.14 -->\r\n      <g transform=\"translate(7.2 75.529242)scale(0.1 -0.1)\">\r\n       <use xlink:href=\"#DejaVuSans-38\"/>\r\n       <use x=\"63.623047\" xlink:href=\"#DejaVuSans-2e\"/>\r\n       <use x=\"95.410156\" xlink:href=\"#DejaVuSans-31\"/>\r\n       <use x=\"159.033203\" xlink:href=\"#DejaVuSans-34\"/>\r\n      </g>\r\n     </g>\r\n    </g>\r\n    <g id=\"ytick_7\">\r\n     <g id=\"line2d_15\">\r\n      <g>\r\n       <use style=\"stroke:#000000;stroke-width:0.8;\" x=\"36.465625\" xlink:href=\"#mf6fdc7714e\" y=\"40.991601\"/>\r\n      </g>\r\n     </g>\r\n     <g id=\"text_16\">\r\n      <!-- 8.16 -->\r\n      <g transform=\"translate(7.2 44.79082)scale(0.1 -0.1)\">\r\n       <use xlink:href=\"#DejaVuSans-38\"/>\r\n       <use x=\"63.623047\" xlink:href=\"#DejaVuSans-2e\"/>\r\n       <use x=\"95.410156\" xlink:href=\"#DejaVuSans-31\"/>\r\n       <use x=\"159.033203\" xlink:href=\"#DejaVuSans-36\"/>\r\n      </g>\r\n     </g>\r\n    </g>\r\n    <g id=\"text_17\">\r\n     <!-- 1e6 -->\r\n     <g transform=\"translate(36.465625 14.798437)scale(0.1 -0.1)\">\r\n      <use xlink:href=\"#DejaVuSans-31\"/>\r\n      <use x=\"63.623047\" xlink:href=\"#DejaVuSans-65\"/>\r\n      <use x=\"125.146484\" xlink:href=\"#DejaVuSans-36\"/>\r\n     </g>\r\n    </g>\r\n   </g>\r\n   <g id=\"patch_3\">\r\n    <path d=\"M 36.465625 235.238438 \r\nL 36.465625 17.798437 \r\n\" style=\"fill:none;stroke:#000000;stroke-linecap:square;stroke-linejoin:miter;stroke-width:0.8;\"/>\r\n   </g>\r\n   <g id=\"patch_4\">\r\n    <path d=\"M 307.417978 235.238438 \r\nL 307.417978 17.798437 \r\n\" style=\"fill:none;stroke:#000000;stroke-linecap:square;stroke-linejoin:miter;stroke-width:0.8;\"/>\r\n   </g>\r\n   <g id=\"patch_5\">\r\n    <path d=\"M 36.465625 235.238438 \r\nL 307.417978 235.238438 \r\n\" style=\"fill:none;stroke:#000000;stroke-linecap:square;stroke-linejoin:miter;stroke-width:0.8;\"/>\r\n   </g>\r\n   <g id=\"patch_6\">\r\n    <path d=\"M 36.465625 17.798438 \r\nL 307.417978 17.798438 \r\n\" style=\"fill:none;stroke:#000000;stroke-linecap:square;stroke-linejoin:miter;stroke-width:0.8;\"/>\r\n   </g>\r\n  </g>\r\n </g>\r\n <defs>\r\n  <clipPath id=\"p0040ae59ff\">\r\n   <rect height=\"217.44\" width=\"270.952353\" x=\"36.465625\" y=\"17.798438\"/>\r\n  </clipPath>\r\n </defs>\r\n</svg>\r\n",
      "image/png": "[encoded data removed]"
     },
     "metadata": {
      "needs_background": "light"
     }
    },
    {
     "output_type": "execute_result",
     "data": {
      "text/plain": [
       "<AxesSubplot:>"
      ]
     },
     "metadata": {},
     "execution_count": 21
    }
   ],
   "source": [
    "fp = rgba_comp_file\n",
    "img = rasterio.open(fp)\n",
    "show(img)\n"
   ]
  },
  {
   "cell_type": "code",
   "execution_count": 25,
   "metadata": {},
   "outputs": [],
   "source": [
    "img= None\n",
    "del img"
   ]
  },
  {
   "cell_type": "code",
   "execution_count": null,
   "metadata": {},
   "outputs": [],
   "source": []
  }
 ]
}