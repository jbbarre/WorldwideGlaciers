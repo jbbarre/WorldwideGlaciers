{
 "metadata": {
  "language_info": {
   "codemirror_mode": {
    "name": "ipython",
    "version": 3
   },
   "file_extension": ".py",
   "mimetype": "text/x-python",
   "name": "python",
   "nbconvert_exporter": "python",
   "pygments_lexer": "ipython3",
   "version": "3.9.5"
  },
  "orig_nbformat": 2,
  "kernelspec": {
   "name": "python3",
   "display_name": "Python 3.9.5 64-bit",
   "metadata": {
    "interpreter": {
     "hash": "fe8c250ecc65b9c312d9907a34fb25acb60718286033c0aea00268d1f05cce17"
    }
   }
  }
 },
 "nbformat": 4,
 "nbformat_minor": 2,
 "cells": [
  {
   "cell_type": "code",
   "execution_count": 49,
   "metadata": {},
   "outputs": [],
   "source": [
    "from osgeo import ogr\n",
    "from osgeo import osr\n",
    "import os\n",
    "from os import listdir\n",
    "from os.path import isfile,isdir, join\n",
    "from osgeo import gdal\n",
    "import icecream as ic\n",
    "\n",
    "#change the working directory\n",
    "in_path = 'D:\\\\3_DataViz\\\\2_glaciers\\\\1_data\\\\THICKNESS\\\\'\n",
    "os.chdir(in_path)\n",
    "mypath = os.getcwd()\n",
    "out_folder = 'D:\\\\3_DataViz\\\\2_glaciers\\\\1_data\\\\THICKNESS\\\\data_3857\\\\'\n",
    "# get the content of the folder\n",
    "onlydir = [f for f in listdir(in_path) if isdir(join(in_path, f))]"
   ]
  },
  {
   "cell_type": "code",
   "execution_count": 50,
   "metadata": {},
   "outputs": [
    {
     "output_type": "execute_result",
     "data": {
      "text/plain": [
       "['data_3857',\n",
       " 'RGI-1',\n",
       " 'RGI-10',\n",
       " 'RGI-11',\n",
       " 'RGI-12',\n",
       " 'RGI-13-15',\n",
       " 'RGI-16',\n",
       " 'RGI-17',\n",
       " 'RGI-18',\n",
       " 'RGI-19',\n",
       " 'RGI-2',\n",
       " 'RGI-3',\n",
       " 'RGI-4',\n",
       " 'RGI-5',\n",
       " 'RGI-6',\n",
       " 'RGI-7',\n",
       " 'RGI-8',\n",
       " 'RGI-9']"
      ]
     },
     "metadata": {},
     "execution_count": 50
    }
   ],
   "source": [
    "onlydir"
   ]
  },
  {
   "cell_type": "code",
   "execution_count": 51,
   "metadata": {},
   "outputs": [
    {
     "output_type": "stream",
     "name": "stdout",
     "text": [
      "Processing done for ERRTHICKNESS_RGI-1.1_2021July01_3857.tif\n",
      "Processing done for ERRTHICKNESS_RGI-1.2_2021July01_3857.tif\n",
      "Processing done for ERRTHICKNESS_RGI-1.3_2021July01_3857.tif\n",
      "Processing done for ERRTHICKNESS_RGI-1.4_2021July01_3857.tif\n",
      "Processing done for ERRTHICKNESS_RGI-1.5_2021July01_3857.tif\n",
      "Processing done for THICKNESS_RGI-1.1_2021July01_3857.tif\n",
      "Processing done for THICKNESS_RGI-1.2_2021July01_3857.tif\n",
      "Processing done for THICKNESS_RGI-1.3_2021July01_3857.tif\n",
      "Processing done for THICKNESS_RGI-1.4_2021July01_3857.tif\n",
      "Processing done for THICKNESS_RGI-1.5_2021July01_3857.tif\n",
      "Processing done for ERRTHICKNESS_RGI-10.1_2021July01_3857.tif\n",
      "Processing done for ERRTHICKNESS_RGI-10.2_2021July01_3857.tif\n",
      "Processing done for THICKNESS_RGI-10.1_2021July01_3857.tif\n",
      "Processing done for THICKNESS_RGI-10.2_2021July01_3857.tif\n",
      "Processing done for ERRTHICKNESS_RGI-11_2021July01_3857.tif\n",
      "Processing done for THICKNESS_RGI-11_2021July01_3857.tif\n",
      "Processing done for ERRTHICKNESS_RGI-12_2021July01_3857.tif\n",
      "Processing done for THICKNESS_RGI-12_2021July01_3857.tif\n",
      "Processing done for ERRTHICKNESS_RGI-13-15.10_2021July01_3857.tif\n",
      "Processing done for ERRTHICKNESS_RGI-13-15.11_2021July01_3857.tif\n",
      "Processing done for ERRTHICKNESS_RGI-13-15.12_2021July01_3857.tif\n",
      "Processing done for ERRTHICKNESS_RGI-13-15.13_2021July01_3857.tif\n",
      "Processing done for ERRTHICKNESS_RGI-13-15.14_2021July01_3857.tif\n",
      "Processing done for ERRTHICKNESS_RGI-13-15.1_2021July01_3857.tif\n",
      "Processing done for ERRTHICKNESS_RGI-13-15.2_2021July01_3857.tif\n",
      "Processing done for ERRTHICKNESS_RGI-13-15.3_2021July01_3857.tif\n",
      "Processing done for ERRTHICKNESS_RGI-13-15.4_2021July01_3857.tif\n",
      "Processing done for ERRTHICKNESS_RGI-13-15.5_2021July01_3857.tif\n",
      "Processing done for ERRTHICKNESS_RGI-13-15.6_2021July01_3857.tif\n",
      "Processing done for ERRTHICKNESS_RGI-13-15.7_2021July01_3857.tif\n",
      "Processing done for ERRTHICKNESS_RGI-13-15.8_2021July01_3857.tif\n",
      "Processing done for ERRTHICKNESS_RGI-13-15.9_2021July01_3857.tif\n",
      "Processing done for THICKNESS_RGI-13-15.10_2021July01_3857.tif\n",
      "Processing done for THICKNESS_RGI-13-15.11_2021July01_3857.tif\n",
      "Processing done for THICKNESS_RGI-13-15.12_2021July01_3857.tif\n",
      "Processing done for THICKNESS_RGI-13-15.13_2021July01_3857.tif\n",
      "Processing done for THICKNESS_RGI-13-15.14_2021July01_3857.tif\n",
      "Processing done for THICKNESS_RGI-13-15.1_2021July01_3857.tif\n",
      "Processing done for THICKNESS_RGI-13-15.2_2021July01_3857.tif\n",
      "Processing done for THICKNESS_RGI-13-15.3_2021July01_3857.tif\n",
      "Processing done for THICKNESS_RGI-13-15.4_2021July01_3857.tif\n",
      "Processing done for THICKNESS_RGI-13-15.5_2021July01_3857.tif\n",
      "Processing done for THICKNESS_RGI-13-15.6_2021July01_3857.tif\n",
      "Processing done for THICKNESS_RGI-13-15.7_2021July01_3857.tif\n",
      "Processing done for THICKNESS_RGI-13-15.8_2021July01_3857.tif\n",
      "Processing done for THICKNESS_RGI-13-15.9_2021July01_3857.tif\n",
      "Processing done for ERRTHICKNESS_RGI-16.1_2021July01_3857.tif\n",
      "Processing done for ERRTHICKNESS_RGI-16.2_2021July01_3857.tif\n",
      "Processing done for THICKNESS_RGI-16.1_2021July01_3857.tif\n",
      "Processing done for THICKNESS_RGI-16.2_2021July01_3857.tif\n",
      "Processing done for ERRTHICKNESS_RGI-17.1_2021July01_3857.tif\n",
      "Processing done for ERRTHICKNESS_RGI-17.2_2021July01_3857.tif\n",
      "Processing done for ERRTHICKNESS_RGI-17.3_2021July01_3857.tif\n",
      "Processing done for ERRTHICKNESS_RGI-17.4_2021July01_3857.tif\n",
      "Processing done for ERRTHICKNESS_RGI-17.5_2021July01_3857.tif\n",
      "Processing done for ERRTHICKNESS_RGI-17.6_2021July01_3857.tif\n",
      "Processing done for ERRTHICKNESS_RGI-17.7_2021July01_3857.tif\n",
      "Processing done for ERRTHICKNESS_RGI-17.8_2021July01_3857.tif\n",
      "Processing done for THICKNESS_RGI-17.1_2021July01_3857.tif\n",
      "Processing done for THICKNESS_RGI-17.2_2021July01_3857.tif\n",
      "Processing done for THICKNESS_RGI-17.3_2021July01_3857.tif\n",
      "Processing done for THICKNESS_RGI-17.4_2021July01_3857.tif\n",
      "Processing done for THICKNESS_RGI-17.5_2021July01_3857.tif\n",
      "Processing done for THICKNESS_RGI-17.6_2021July01_3857.tif\n",
      "Processing done for THICKNESS_RGI-17.7_2021July01_3857.tif\n",
      "Processing done for THICKNESS_RGI-17.8_2021July01_3857.tif\n",
      "Processing done for ERRTHICKNESS_RGI-18_2021July01_3857.tif\n",
      "Processing done for THICKNESS_RGI-18_2021July01_3857.tif\n",
      "Processing done for ERRTHICKNESS_RGI-19.1_2021July01_3857.tif\n",
      "Processing done for ERRTHICKNESS_RGI-19.2_2021July01_3857.tif\n",
      "Processing done for ERRTHICKNESS_RGI-19.3_2021July01_3857.tif\n",
      "Processing done for ERRTHICKNESS_RGI-19.4_2021July01_3857.tif\n",
      "Processing done for THICKNESS_RGI-19.1_2021July01_3857.tif\n",
      "Processing done for THICKNESS_RGI-19.2_2021July01_3857.tif\n",
      "Processing done for THICKNESS_RGI-19.3_2021July01_3857.tif\n",
      "Processing done for THICKNESS_RGI-19.4_2021July01_3857.tif\n",
      "Processing done for ERRTHICKNESS_RGI-2.1_2021July01_3857.tif\n",
      "Processing done for ERRTHICKNESS_RGI-2.2_2021July01_3857.tif\n",
      "Processing done for ERRTHICKNESS_RGI-2.3_2021July01_3857.tif\n",
      "Processing done for ERRTHICKNESS_RGI-2.4_2021July01_3857.tif\n",
      "Processing done for THICKNESS_RGI-2.1_2021July01_3857.tif\n",
      "Processing done for THICKNESS_RGI-2.2_2021July01_3857.tif\n",
      "Processing done for THICKNESS_RGI-2.3_2021July01_3857.tif\n",
      "Processing done for THICKNESS_RGI-2.4_2021July01_3857.tif\n",
      "Processing done for ERRTHICKNESS_RGI-3_2021July01_3857.tif\n",
      "Processing done for THICKNESS_RGI-3_2021July01_3857.tif\n",
      "Processing done for ERRTHICKNESS_RGI-4.1_2021July01_3857.tif\n",
      "Processing done for ERRTHICKNESS_RGI-4.2_2021July01_3857.tif\n",
      "Processing done for THICKNESS_RGI-4.1_2021July01_3857.tif\n",
      "Processing done for THICKNESS_RGI-4.2_2021July01_3857.tif\n",
      "Processing done for ERRTHICKNESS_RGI-5.1_2021July01_3857.tif\n",
      "Processing done for ERRTHICKNESS_RGI-5.2_2021July01_3857.tif\n",
      "Processing done for ERRTHICKNESS_RGI-5.3_2021July01_3857.tif\n",
      "Processing done for ERRTHICKNESS_RGI-5.4_2021July01_3857.tif\n",
      "Processing done for ERRTHICKNESS_RGI-5.5_2021July01_3857.tif\n",
      "Processing done for ERRTHICKNESS_RGI-5.6_2021July01_3857.tif\n",
      "Processing done for ERRTHICKNESS_RGI-5.7_2021July01_3857.tif\n",
      "Processing done for ERRTHICKNESS_RGI-5.8_2021July01_3857.tif\n",
      "Processing done for THICKNESS_RGI-5.1_2021July01_3857.tif\n",
      "Processing done for THICKNESS_RGI-5.2_2021July01_3857.tif\n",
      "Processing done for THICKNESS_RGI-5.3_2021July01_3857.tif\n",
      "Processing done for THICKNESS_RGI-5.4_2021July01_3857.tif\n",
      "Processing done for THICKNESS_RGI-5.5_2021July01_3857.tif\n",
      "Processing done for THICKNESS_RGI-5.6_2021July01_3857.tif\n",
      "Processing done for THICKNESS_RGI-5.7_2021July01_3857.tif\n",
      "Processing done for THICKNESS_RGI-5.8_2021July01_3857.tif\n",
      "Processing done for ERRTHICKNESS_RGI-6_2021July01_3857.tif\n",
      "Processing done for THICKNESS_RGI-6_2021July01_3857.tif\n",
      "Processing done for ERRTHICKNESS_RGI-7.1_2021July01_3857.tif\n",
      "Processing done for ERRTHICKNESS_RGI-7.2_2021July01_3857.tif\n",
      "Processing done for THICKNESS_RGI-7.1_2021July01_3857.tif\n",
      "Processing done for THICKNESS_RGI-7.2_2021July01_3857.tif\n",
      "Processing done for ERRTHICKNESS_RGI-8.1_2021July01_3857.tif\n",
      "Processing done for ERRTHICKNESS_RGI-8.2_2021July01_3857.tif\n",
      "Processing done for THICKNESS_RGI-8.1_2021July01_3857.tif\n",
      "Processing done for THICKNESS_RGI-8.2_2021July01_3857.tif\n",
      "Processing done for ERRTHICKNESS_RGI-9.1_2021July01_3857.tif\n",
      "Processing done for ERRTHICKNESS_RGI-9.2_2021July01_3857.tif\n",
      "Processing done for ERRTHICKNESS_RGI-9.3_2021July01_3857.tif\n",
      "Processing done for THICKNESS_RGI-9.1_2021July01_3857.tif\n",
      "Processing done for THICKNESS_RGI-9.2_2021July01_3857.tif\n",
      "Processing done for THICKNESS_RGI-9.3_2021July01_3857.tif\n"
     ]
    }
   ],
   "source": [
    "# Extract and reproject tiff in 3857\n",
    "for in_dir in onlydir :\n",
    "    # get the content of the folder\n",
    "    onlyfiles = [f for f in listdir(in_dir) if isfile(join(in_dir, f)) if in_dir !='data_3857']\n",
    "    for i in onlyfiles :\n",
    "        ds = gdal.Open(os.path.join(in_dir,i))\n",
    "        out_file = i.replace('.tif','_3857.tif')\n",
    "        warp_options = gdal.WarpOptions(dstSRS = 'EPSG:3857')\n",
    "        gdal.Warp(destNameOrDestDS = os.path.join(out_folder,out_file), srcDSOrSrcDSTab = ds, options = warp_options)\n",
    "        print(\"Processing done for \"+out_file)"
   ]
  },
  {
   "cell_type": "code",
   "execution_count": 46,
   "metadata": {},
   "outputs": [
    {
     "output_type": "execute_result",
     "data": {
      "text/plain": [
       "NoneType"
      ]
     },
     "metadata": {},
     "execution_count": 46
    }
   ],
   "source": []
  }
 ]
}