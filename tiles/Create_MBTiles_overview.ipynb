{
 "cells": [
  {
   "cell_type": "code",
   "execution_count": 1,
   "metadata": {},
   "outputs": [],
   "source": [
    "from osgeo import gdal,osr"
   ]
  },
  {
   "cell_type": "code",
   "execution_count": 7,
   "metadata": {},
   "outputs": [
    {
     "name": "stdout",
     "output_type": "stream",
     "text": [
      "Tiles produced for T_rgi-7_15.mbtiles\n"
     ]
    }
   ],
   "source": [
    "#1. creation du MBTiles\n",
    "\n",
    "file_name = 'T_rgi-7_15.vrt'\n",
    "out_path = '/data/users/barreje/glaciers/thickness/'\n",
    "src_file = out_path + file_name\n",
    "mb_file = file_name.replace('.vrt','.mbtiles')\n",
    "\n",
    "\n",
    "creation_opt = [\"TILE_FORMAT=PNG8\",\"ZLEVEL=9\"]\n",
    "options = gdal.TranslateOptions(format = 'mbtiles')\n",
    "gdal.Translate(destName=out_path+mb_file ,srcDS=src_file, options = options,creationOptions= creation_opt)\n",
    "\n",
    "#2. Create the Zoom level [equivalent to gdaladdo with CLI]\n",
    "Image = gdal.Open(out_path+mb_file, 1)  # 0 = read-only, 1 = read-write.\n",
    "gdal.SetConfigOption('COMPRESS_OVERVIEW', 'LZW')\n",
    "Image.BuildOverviews('CUBIC', [2, 4, 8, 16], gdal.TermProgress_nocb)\n",
    "del Image  # close the dataset (Python object and pointers)\n",
    "print(\"Tiles produced for \"+ mb_file)"
   ]
  },
  {
   "cell_type": "code",
   "execution_count": null,
   "metadata": {},
   "outputs": [],
   "source": []
  }
 ],
 "metadata": {
  "kernelspec": {
   "display_name": "Python 3.8.10 64-bit ('spatialenv': conda)",
   "metadata": {
    "interpreter": {
     "hash": "fa4841addb3369b23a85d9d9eb71d90580725185f2d11a3c28db78fc9e9e2b87"
    }
   },
   "name": "python3"
  },
  "language_info": {
   "codemirror_mode": {
    "name": "ipython",
    "version": 3
   },
   "file_extension": ".py",
   "mimetype": "text/x-python",
   "name": "python",
   "nbconvert_exporter": "python",
   "pygments_lexer": "ipython3",
   "version": "3.8.10"
  },
  "orig_nbformat": 2
 },
 "nbformat": 4,
 "nbformat_minor": 2
}