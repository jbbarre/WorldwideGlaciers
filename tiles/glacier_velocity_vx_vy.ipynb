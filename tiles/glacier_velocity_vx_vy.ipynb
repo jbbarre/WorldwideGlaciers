{
 "metadata": {
  "language_info": {
   "codemirror_mode": {
    "name": "ipython",
    "version": 3
   },
   "file_extension": ".py",
   "mimetype": "text/x-python",
   "name": "python",
   "nbconvert_exporter": "python",
   "pygments_lexer": "ipython3",
   "version": "3.9.5"
  },
  "orig_nbformat": 2,
  "kernelspec": {
   "name": "python3",
   "display_name": "Python 3.9.5 64-bit",
   "metadata": {
    "interpreter": {
     "hash": "fe8c250ecc65b9c312d9907a34fb25acb60718286033c0aea00268d1f05cce17"
    }
   }
  }
 },
 "nbformat": 4,
 "nbformat_minor": 2,
 "cells": [
  {
   "cell_type": "code",
   "execution_count": 3,
   "metadata": {},
   "outputs": [],
   "source": [
    "from osgeo import gdal,osr\n",
    "import numpy as np\n",
    "import rasterio"
   ]
  },
  {
   "cell_type": "code",
   "execution_count": 4,
   "metadata": {},
   "outputs": [],
   "source": [
    "# Change the working directory\n",
    "path = 'D:\\\\3_DataViz\\\\2_glaciers\\\\0_Greenland\\\\'\n",
    "# Get the content of the folder\n",
    "\n",
    "file_x='greenland_vel_mosaic250_vx_v1.tif'\n",
    "file_y='greenland_vel_mosaic250_vy_v1.tif'\n",
    "\n",
    "# read GeoTIFF source and set nodata to 9999\n",
    "with rasterio.open(path + file_x, \"r+\") as src_x:\n",
    "    src_x.nodata = 9999\n",
    "with rasterio.open(path + file_y, \"r+\") as src_y:\n",
    "    src_y.nodata = 9999\n",
    "\n",
    "src_x = rasterio.open(path + file_x)\n",
    "src_y = rasterio.open(path + file_x)"
   ]
  },
  {
   "cell_type": "code",
   "execution_count": 5,
   "metadata": {},
   "outputs": [
    {
     "output_type": "execute_result",
     "data": {
      "text/plain": [
       "9999.0"
      ]
     },
     "metadata": {},
     "execution_count": 5
    }
   ],
   "source": [
    "src_x.profile\n",
    "src_x.nodata"
   ]
  },
  {
   "cell_type": "code",
   "execution_count": 6,
   "metadata": {},
   "outputs": [],
   "source": [
    "\n",
    "# read the one band TIFF\n",
    "arr_x = src_x.read(1)\n",
    "arr_y = src_y.read(1)\n",
    "#compute the norm of the x/y components\n",
    "arr = np.sqrt(np.square(arr_x)+np.square(arr_y))\n",
    "\n"
   ]
  },
  {
   "cell_type": "code",
   "execution_count": 48,
   "metadata": {},
   "outputs": [],
   "source": [
    "# Register GDAL format drivers and configuration options with a\n",
    "# context manager.\n",
    "with rasterio.Env():\n",
    "\n",
    "    # Write an array as a raster band to a new 8-bit file. For\n",
    "    # the new file's profile, we start with the profile of the source\n",
    "    profile = src_x.profile\n",
    "\n",
    "    # And then change the band count to 1, set the\n",
    "    # dtype to uint8, and specify LZW compression.\n",
    "    profile.update(\n",
    "        dtype=rasterio.uint16,\n",
    "        count=1,\n",
    "        compress='lzw')\n",
    "\n",
    "    with rasterio.open(path+'greenland_vel_mosaic250_v0_v1.tiff', 'w', **profile) as dst:\n",
    "        dst.write_mask(True)\n",
    "        dst.write(arr.astype(rasterio.uint16), 1)\n",
    "\n",
    "# At the end of the ``with rasterio.Env()`` block, context\n",
    "# manager exits and all drivers are de-registered."
   ]
  },
  {
   "cell_type": "code",
   "execution_count": null,
   "metadata": {},
   "outputs": [],
   "source": []
  }
 ]
}