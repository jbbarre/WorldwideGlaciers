{
 "metadata": {
  "language_info": {
   "codemirror_mode": {
    "name": "ipython",
    "version": 3
   },
   "file_extension": ".py",
   "mimetype": "text/x-python",
   "name": "python",
   "nbconvert_exporter": "python",
   "pygments_lexer": "ipython3",
   "version": "3.8.5"
  },
  "orig_nbformat": 2,
  "kernelspec": {
   "name": "python3",
   "display_name": "Python 3",
   "language": "python"
  }
 },
 "nbformat": 4,
 "nbformat_minor": 2,
 "cells": [
  {
   "cell_type": "code",
   "execution_count": 2,
   "metadata": {},
   "outputs": [],
   "source": [
    "import geopandas as gpd\n",
    "import pandas as pd\n",
    "import os\n",
    "from os.path import isfile, join, dirname\n",
    "from pandas_profiling import ProfileReport"
   ]
  },
  {
   "cell_type": "code",
   "execution_count": 3,
   "metadata": {},
   "outputs": [
    {
     "output_type": "stream",
     "name": "stdout",
     "text": [
      "62\n"
     ]
    }
   ],
   "source": [
    "data_path = '/mnt/d/3_DataViz/2_glaciers/2_shp/'\n",
    "pathfile = dirname(data_path)\n",
    "onlyfiles = [f for f in os.listdir(data_path) if isfile(join(data_path, f)) if os.path.splitext(data_path+f)[1]=='.shp']\n",
    "print(len(onlyfiles))"
   ]
  },
  {
   "cell_type": "code",
   "execution_count": 47,
   "metadata": {},
   "outputs": [],
   "source": [
    "#load the first shp\n",
    "gdf = gpd.read_file(data_path+onlyfiles[0])"
   ]
  },
  {
   "cell_type": "code",
   "execution_count": 50,
   "metadata": {},
   "outputs": [],
   "source": [
    "#load all others shp\n",
    "for fi in range(1,len(onlyfiles)):\n",
    "    gdf_tempo = gpd.read_file(data_path+onlyfiles[fi])\n",
    "    gdf_tempo['file']=onlyfiles[fi]\n",
    "    gdf = gpd.GeoDataFrame(pd.concat([gdf,gdf_tempo], ignore_index=True), crs=gdf.crs)"
   ]
  },
  {
   "cell_type": "code",
   "execution_count": 51,
   "metadata": {},
   "outputs": [
    {
     "output_type": "execute_result",
     "data": {
      "text/plain": [
       "(206549, 39)"
      ]
     },
     "metadata": {},
     "execution_count": 51
    }
   ],
   "source": [
    "gdf.shape"
   ]
  },
  {
   "cell_type": "code",
   "execution_count": 52,
   "metadata": {},
   "outputs": [],
   "source": [
    "#save geodataframe as pickle\n",
    "gdf.to_pickle('/mnt/d/3_DataViz/2_glaciers/2_shp/glaciers.pkl')\n",
    "#read the pickle file\n",
    "#gdf1 = pd.read_pickle('123.pkl')"
   ]
  },
  {
   "cell_type": "code",
   "execution_count": 53,
   "metadata": {},
   "outputs": [
    {
     "output_type": "execute_result",
     "data": {
      "text/plain": [
       "            RGIId         GLIMSId   BgnDate   EndDate CenLon CenLat O1Region  \\\n",
       "0  RGI60-01.08083  G193267E53608N  20090826  -9999999 -166.0   53.0        1   \n",
       "1  RGI60-01.08084  G193301E53604N  20090826  -9999999 -166.0   53.0        1   \n",
       "2  RGI60-01.08085  G193291E53605N  20090826  -9999999 -166.0   53.0        1   \n",
       "3  RGI60-01.08086  G193277E53605N  20090826  -9999999 -166.0   53.0        1   \n",
       "4  RGI60-01.08087  G193200E53595N  20090826  -9999999 -166.0   53.0        1   \n",
       "\n",
       "  O2Region Area   Zmin   Zmax   Zmed Slope Aspect   Lmax Status Connect Form  \\\n",
       "0        3  0.0  625.0  769.0  671.0  29.0   36.0   -9.0      0     0.0  0.0   \n",
       "1        3  0.0  676.0  897.0  766.0  27.0  108.0  325.0      0     0.0  0.0   \n",
       "2        3  0.0  572.0  909.0  809.0  28.0   28.0  680.0      0     0.0  0.0   \n",
       "3        3  0.0  640.0  912.0  744.0  17.0  351.0  922.0      0     0.0  0.0   \n",
       "4        3  0.0  774.0  892.0  808.0  20.0  254.0  352.0      0     0.0  0.0   \n",
       "\n",
       "  TermType Surging Linkages  Name   Vmed    Vmax   Viqr  Zmed_new  Zmax_new  \\\n",
       "0      0.0     9.0      9.0  None  12.14   40.88  23.98     698.0       754   \n",
       "1      0.0     9.0      9.0  None  25.81  101.62  38.38     775.0       858   \n",
       "2      0.0     9.0      9.0  None  14.10  238.17  41.41     813.0       909   \n",
       "3      0.0     9.0      9.0  None  25.71  353.67  49.55     760.0       896   \n",
       "4      0.0     9.0      9.0  None   7.01  174.77  44.06     829.0       919   \n",
       "\n",
       "   Zmin_new  Ziqr_new  Smed  Smin  Smax  Siqr  Hmed   Hmax  Hiqr Area_new_k  \\\n",
       "0     619.0      57.0  0.31  0.28  0.35  0.03  29.0   42.0  14.0       None   \n",
       "1     690.0      71.0  0.50  0.46  0.52  0.03  30.0   78.0  34.0       None   \n",
       "2     584.0     114.0  0.48  0.38  0.55  0.10  28.0  108.0  33.0       None   \n",
       "3     650.0      92.0  0.27  0.24  0.33  0.02  82.0  194.0  78.0       None   \n",
       "4     784.0      49.0  0.41  0.34  0.47  0.07  27.0   88.0  33.0       None   \n",
       "\n",
       "                                            geometry  \\\n",
       "0  POLYGON ((-18560419.043 7096027.317, -18560582...   \n",
       "1  POLYGON ((-18556721.714 7095382.891, -18556918...   \n",
       "2  POLYGON ((-18558104.898 7095985.027, -18558057...   \n",
       "3  POLYGON ((-18559404.672 7094831.907, -18559462...   \n",
       "4  POLYGON ((-18568142.814 7093373.677, -18568236...   \n",
       "\n",
       "                                                file  \n",
       "0  RGI_ALASKA_EASTERN_2_Millanetal_v06May2021_385...  \n",
       "1  RGI_ALASKA_EASTERN_2_Millanetal_v06May2021_385...  \n",
       "2  RGI_ALASKA_EASTERN_2_Millanetal_v06May2021_385...  \n",
       "3  RGI_ALASKA_EASTERN_2_Millanetal_v06May2021_385...  \n",
       "4  RGI_ALASKA_EASTERN_2_Millanetal_v06May2021_385...  "
      ],
      "text/html": "<div>\n<style scoped>\n    .dataframe tbody tr th:only-of-type {\n        vertical-align: middle;\n    }\n\n    .dataframe tbody tr th {\n        vertical-align: top;\n    }\n\n    .dataframe thead th {\n        text-align: right;\n    }\n</style>\n<table border=\"1\" class=\"dataframe\">\n  <thead>\n    <tr style=\"text-align: right;\">\n      <th></th>\n      <th>RGIId</th>\n      <th>GLIMSId</th>\n      <th>BgnDate</th>\n      <th>EndDate</th>\n      <th>CenLon</th>\n      <th>CenLat</th>\n      <th>O1Region</th>\n      <th>O2Region</th>\n      <th>Area</th>\n      <th>Zmin</th>\n      <th>Zmax</th>\n      <th>Zmed</th>\n      <th>Slope</th>\n      <th>Aspect</th>\n      <th>Lmax</th>\n      <th>Status</th>\n      <th>Connect</th>\n      <th>Form</th>\n      <th>TermType</th>\n      <th>Surging</th>\n      <th>Linkages</th>\n      <th>Name</th>\n      <th>Vmed</th>\n      <th>Vmax</th>\n      <th>Viqr</th>\n      <th>Zmed_new</th>\n      <th>Zmax_new</th>\n      <th>Zmin_new</th>\n      <th>Ziqr_new</th>\n      <th>Smed</th>\n      <th>Smin</th>\n      <th>Smax</th>\n      <th>Siqr</th>\n      <th>Hmed</th>\n      <th>Hmax</th>\n      <th>Hiqr</th>\n      <th>Area_new_k</th>\n      <th>geometry</th>\n      <th>file</th>\n    </tr>\n  </thead>\n  <tbody>\n    <tr>\n      <th>0</th>\n      <td>RGI60-01.08083</td>\n      <td>G193267E53608N</td>\n      <td>20090826</td>\n      <td>-9999999</td>\n      <td>-166.0</td>\n      <td>53.0</td>\n      <td>1</td>\n      <td>3</td>\n      <td>0.0</td>\n      <td>625.0</td>\n      <td>769.0</td>\n      <td>671.0</td>\n      <td>29.0</td>\n      <td>36.0</td>\n      <td>-9.0</td>\n      <td>0</td>\n      <td>0.0</td>\n      <td>0.0</td>\n      <td>0.0</td>\n      <td>9.0</td>\n      <td>9.0</td>\n      <td>None</td>\n      <td>12.14</td>\n      <td>40.88</td>\n      <td>23.98</td>\n      <td>698.0</td>\n      <td>754</td>\n      <td>619.0</td>\n      <td>57.0</td>\n      <td>0.31</td>\n      <td>0.28</td>\n      <td>0.35</td>\n      <td>0.03</td>\n      <td>29.0</td>\n      <td>42.0</td>\n      <td>14.0</td>\n      <td>None</td>\n      <td>POLYGON ((-18560419.043 7096027.317, -18560582...</td>\n      <td>RGI_ALASKA_EASTERN_2_Millanetal_v06May2021_385...</td>\n    </tr>\n    <tr>\n      <th>1</th>\n      <td>RGI60-01.08084</td>\n      <td>G193301E53604N</td>\n      <td>20090826</td>\n      <td>-9999999</td>\n      <td>-166.0</td>\n      <td>53.0</td>\n      <td>1</td>\n      <td>3</td>\n      <td>0.0</td>\n      <td>676.0</td>\n      <td>897.0</td>\n      <td>766.0</td>\n      <td>27.0</td>\n      <td>108.0</td>\n      <td>325.0</td>\n      <td>0</td>\n      <td>0.0</td>\n      <td>0.0</td>\n      <td>0.0</td>\n      <td>9.0</td>\n      <td>9.0</td>\n      <td>None</td>\n      <td>25.81</td>\n      <td>101.62</td>\n      <td>38.38</td>\n      <td>775.0</td>\n      <td>858</td>\n      <td>690.0</td>\n      <td>71.0</td>\n      <td>0.50</td>\n      <td>0.46</td>\n      <td>0.52</td>\n      <td>0.03</td>\n      <td>30.0</td>\n      <td>78.0</td>\n      <td>34.0</td>\n      <td>None</td>\n      <td>POLYGON ((-18556721.714 7095382.891, -18556918...</td>\n      <td>RGI_ALASKA_EASTERN_2_Millanetal_v06May2021_385...</td>\n    </tr>\n    <tr>\n      <th>2</th>\n      <td>RGI60-01.08085</td>\n      <td>G193291E53605N</td>\n      <td>20090826</td>\n      <td>-9999999</td>\n      <td>-166.0</td>\n      <td>53.0</td>\n      <td>1</td>\n      <td>3</td>\n      <td>0.0</td>\n      <td>572.0</td>\n      <td>909.0</td>\n      <td>809.0</td>\n      <td>28.0</td>\n      <td>28.0</td>\n      <td>680.0</td>\n      <td>0</td>\n      <td>0.0</td>\n      <td>0.0</td>\n      <td>0.0</td>\n      <td>9.0</td>\n      <td>9.0</td>\n      <td>None</td>\n      <td>14.10</td>\n      <td>238.17</td>\n      <td>41.41</td>\n      <td>813.0</td>\n      <td>909</td>\n      <td>584.0</td>\n      <td>114.0</td>\n      <td>0.48</td>\n      <td>0.38</td>\n      <td>0.55</td>\n      <td>0.10</td>\n      <td>28.0</td>\n      <td>108.0</td>\n      <td>33.0</td>\n      <td>None</td>\n      <td>POLYGON ((-18558104.898 7095985.027, -18558057...</td>\n      <td>RGI_ALASKA_EASTERN_2_Millanetal_v06May2021_385...</td>\n    </tr>\n    <tr>\n      <th>3</th>\n      <td>RGI60-01.08086</td>\n      <td>G193277E53605N</td>\n      <td>20090826</td>\n      <td>-9999999</td>\n      <td>-166.0</td>\n      <td>53.0</td>\n      <td>1</td>\n      <td>3</td>\n      <td>0.0</td>\n      <td>640.0</td>\n      <td>912.0</td>\n      <td>744.0</td>\n      <td>17.0</td>\n      <td>351.0</td>\n      <td>922.0</td>\n      <td>0</td>\n      <td>0.0</td>\n      <td>0.0</td>\n      <td>0.0</td>\n      <td>9.0</td>\n      <td>9.0</td>\n      <td>None</td>\n      <td>25.71</td>\n      <td>353.67</td>\n      <td>49.55</td>\n      <td>760.0</td>\n      <td>896</td>\n      <td>650.0</td>\n      <td>92.0</td>\n      <td>0.27</td>\n      <td>0.24</td>\n      <td>0.33</td>\n      <td>0.02</td>\n      <td>82.0</td>\n      <td>194.0</td>\n      <td>78.0</td>\n      <td>None</td>\n      <td>POLYGON ((-18559404.672 7094831.907, -18559462...</td>\n      <td>RGI_ALASKA_EASTERN_2_Millanetal_v06May2021_385...</td>\n    </tr>\n    <tr>\n      <th>4</th>\n      <td>RGI60-01.08087</td>\n      <td>G193200E53595N</td>\n      <td>20090826</td>\n      <td>-9999999</td>\n      <td>-166.0</td>\n      <td>53.0</td>\n      <td>1</td>\n      <td>3</td>\n      <td>0.0</td>\n      <td>774.0</td>\n      <td>892.0</td>\n      <td>808.0</td>\n      <td>20.0</td>\n      <td>254.0</td>\n      <td>352.0</td>\n      <td>0</td>\n      <td>0.0</td>\n      <td>0.0</td>\n      <td>0.0</td>\n      <td>9.0</td>\n      <td>9.0</td>\n      <td>None</td>\n      <td>7.01</td>\n      <td>174.77</td>\n      <td>44.06</td>\n      <td>829.0</td>\n      <td>919</td>\n      <td>784.0</td>\n      <td>49.0</td>\n      <td>0.41</td>\n      <td>0.34</td>\n      <td>0.47</td>\n      <td>0.07</td>\n      <td>27.0</td>\n      <td>88.0</td>\n      <td>33.0</td>\n      <td>None</td>\n      <td>POLYGON ((-18568142.814 7093373.677, -18568236...</td>\n      <td>RGI_ALASKA_EASTERN_2_Millanetal_v06May2021_385...</td>\n    </tr>\n  </tbody>\n</table>\n</div>"
     },
     "metadata": {},
     "execution_count": 53
    }
   ],
   "source": [
    "gdf.head(5)"
   ]
  },
  {
   "cell_type": "code",
   "execution_count": 54,
   "metadata": {},
   "outputs": [
    {
     "output_type": "stream",
     "name": "stdout",
     "text": [
      "<class 'geopandas.geodataframe.GeoDataFrame'>\nRangeIndex: 206549 entries, 0 to 206548\nData columns (total 39 columns):\n #   Column      Non-Null Count   Dtype   \n---  ------      --------------   -----   \n 0   RGIId       206538 non-null  object  \n 1   GLIMSId     206538 non-null  object  \n 2   BgnDate     206538 non-null  object  \n 3   EndDate     206538 non-null  object  \n 4   CenLon      206538 non-null  object  \n 5   CenLat      206538 non-null  object  \n 6   O1Region    206538 non-null  object  \n 7   O2Region    206538 non-null  object  \n 8   Area        206538 non-null  object  \n 9   Zmin        206538 non-null  object  \n 10  Zmax        206538 non-null  object  \n 11  Zmed        206538 non-null  object  \n 12  Slope       206538 non-null  object  \n 13  Aspect      206538 non-null  object  \n 14  Lmax        206538 non-null  object  \n 15  Status      206549 non-null  object  \n 16  Connect     206538 non-null  object  \n 17  Form        206538 non-null  object  \n 18  TermType    206538 non-null  object  \n 19  Surging     206538 non-null  object  \n 20  Linkages    206538 non-null  object  \n 21  Name        41778 non-null   object  \n 22  Vmed        194858 non-null  float64 \n 23  Vmax        195039 non-null  float64 \n 24  Viqr        194948 non-null  float64 \n 25  Zmed_new    206499 non-null  float64 \n 26  Zmax_new    206549 non-null  int64   \n 27  Zmin_new    206052 non-null  float64 \n 28  Ziqr_new    206515 non-null  float64 \n 29  Smed        202091 non-null  float64 \n 30  Smin        202091 non-null  float64 \n 31  Smax        202091 non-null  float64 \n 32  Siqr        202091 non-null  float64 \n 33  Hmed        197257 non-null  float64 \n 34  Hmax        201915 non-null  float64 \n 35  Hiqr        202066 non-null  float64 \n 36  Area_new_k  0 non-null       object  \n 37  geometry    206549 non-null  geometry\n 38  file        206549 non-null  object  \ndtypes: float64(13), geometry(1), int64(1), object(24)\nmemory usage: 61.5+ MB\n"
     ]
    }
   ],
   "source": [
    "# quick overview of the dataset\n",
    "gdf.info()"
   ]
  },
  {
   "cell_type": "code",
   "execution_count": 55,
   "metadata": {},
   "outputs": [
    {
     "output_type": "stream",
     "name": "stdout",
     "text": [
      "(206549, 39)\n"
     ]
    }
   ],
   "source": [
    "print(gdf.shape)"
   ]
  },
  {
   "cell_type": "code",
   "execution_count": 56,
   "metadata": {},
   "outputs": [
    {
     "output_type": "execute_result",
     "data": {
      "text/plain": [
       "RGIId         201498\n",
       "GLIMSId       201421\n",
       "BgnDate          509\n",
       "EndDate           46\n",
       "CenLon         17197\n",
       "CenLat         17050\n",
       "O1Region          19\n",
       "O2Region           9\n",
       "Area            6153\n",
       "Zmin            7074\n",
       "Zmax            7819\n",
       "Zmed            7246\n",
       "Slope            804\n",
       "Aspect           672\n",
       "Lmax           11875\n",
       "Status             3\n",
       "Connect            4\n",
       "Form               3\n",
       "TermType           5\n",
       "Surging            7\n",
       "Linkages           4\n",
       "Name           33675\n",
       "Vmed            6031\n",
       "Vmax           19962\n",
       "Viqr            7827\n",
       "Zmed_new        6575\n",
       "Zmax_new        7084\n",
       "Zmin_new        6403\n",
       "Ziqr_new        1282\n",
       "Smed             103\n",
       "Smin             102\n",
       "Smax             140\n",
       "Siqr              66\n",
       "Hmed             460\n",
       "Hmax             843\n",
       "Hiqr             393\n",
       "Area_new_k         0\n",
       "geometry      203451\n",
       "file              62\n",
       "dtype: int64"
      ]
     },
     "metadata": {},
     "execution_count": 56
    }
   ],
   "source": [
    "#Return number of unique elements in the object.\n",
    "gdf.nunique()\n"
   ]
  },
  {
   "cell_type": "code",
   "execution_count": 101,
   "metadata": {},
   "outputs": [],
   "source": [
    "#Returns how much memory each column uses in bytes\n",
    "#gdf.memory_usage( )"
   ]
  },
  {
   "cell_type": "code",
   "execution_count": 57,
   "metadata": {},
   "outputs": [
    {
     "output_type": "stream",
     "name": "stdout",
     "text": [
      "duplicated rows : 81\nNombre d enregistrement:  206549\n"
     ]
    }
   ],
   "source": [
    "#Returns a boolean Series denoting duplicate rows.\n",
    "duplicated= gdf.duplicated( )\n",
    "print('duplicated rows :',duplicated.sum())\n",
    "print('Nombre d enregistrement: ',len(gdf))"
   ]
  },
  {
   "cell_type": "code",
   "execution_count": 58,
   "metadata": {},
   "outputs": [
    {
     "output_type": "execute_result",
     "data": {
      "text/plain": [
       "RGIId             11\n",
       "GLIMSId           11\n",
       "BgnDate           11\n",
       "EndDate           11\n",
       "CenLon            11\n",
       "CenLat            11\n",
       "O1Region          11\n",
       "O2Region          11\n",
       "Area              11\n",
       "Zmin              11\n",
       "Zmax              11\n",
       "Zmed              11\n",
       "Slope             11\n",
       "Aspect            11\n",
       "Lmax              11\n",
       "Status             0\n",
       "Connect           11\n",
       "Form              11\n",
       "TermType          11\n",
       "Surging           11\n",
       "Linkages          11\n",
       "Name          164771\n",
       "Vmed           11691\n",
       "Vmax           11510\n",
       "Viqr           11601\n",
       "Zmed_new          50\n",
       "Zmax_new           0\n",
       "Zmin_new         497\n",
       "Ziqr_new          34\n",
       "Smed            4458\n",
       "Smin            4458\n",
       "Smax            4458\n",
       "Siqr            4458\n",
       "Hmed            9292\n",
       "Hmax            4634\n",
       "Hiqr            4483\n",
       "Area_new_k    206549\n",
       "geometry           0\n",
       "file               0\n",
       "dtype: int64"
      ]
     },
     "metadata": {},
     "execution_count": 58
    }
   ],
   "source": [
    "#Return the number of missing values in each column.\n",
    "gdf.isnull( ).sum( )"
   ]
  },
  {
   "cell_type": "code",
   "execution_count": 59,
   "metadata": {},
   "outputs": [
    {
     "output_type": "stream",
     "name": "stdout",
     "text": [
      "RGI60-13.51170    3\nRGI60-13.04317    3\nRGI60-13.51115    3\nRGI60-13.51109    3\nRGI60-13.04316    3\n                 ..\nRGI60-05.19472    1\nRGI60-01.08492    1\nRGI60-14.26393    1\nRGI60-13.34320    1\nRGI60-05.11465    1\nName: RGIId, Length: 201498, dtype: int64\n"
     ]
    }
   ],
   "source": [
    "#get a Series containing counts of unique values\n",
    "print(gdf['RGIId'].value_counts())          "
   ]
  },
  {
   "cell_type": "code",
   "execution_count": 60,
   "metadata": {},
   "outputs": [
    {
     "output_type": "stream",
     "name": "stdout",
     "text": [
      "Nombre d enregistrement:  201499\n"
     ]
    }
   ],
   "source": [
    "clean_gdf= gdf.drop_duplicates(subset=['RGIId'])\n",
    "print('Nombre d enregistrement: ',len(clean_gdf))"
   ]
  },
  {
   "cell_type": "code",
   "execution_count": 15,
   "metadata": {},
   "outputs": [
    {
     "output_type": "stream",
     "name": "stdout",
     "text": [
      "RGI60-01.07021    1\nRGI60-02.10459    1\nRGI60-01.11529    1\nRGI60-05.10071    1\nRGI60-01.13588    1\n                 ..\nRGI60-13.31851    1\nRGI60-14.04517    1\nRGI60-01.11489    1\nRGI60-17.15818    1\nRGI60-11.01751    1\nName: RGIId, Length: 201311, dtype: int64\n"
     ]
    }
   ],
   "source": [
    "#vérifie si plus de doublon avec RGIid\n",
    "#print(clean_gdf['RGIId'].value_counts()) "
   ]
  },
  {
   "cell_type": "code",
   "execution_count": 61,
   "metadata": {},
   "outputs": [
    {
     "output_type": "execute_result",
     "data": {
      "text/plain": [
       "RGIId              1\n",
       "GLIMSId            1\n",
       "BgnDate            1\n",
       "EndDate            1\n",
       "CenLon             1\n",
       "CenLat             1\n",
       "O1Region           1\n",
       "O2Region           1\n",
       "Area               1\n",
       "Zmin               1\n",
       "Zmax               1\n",
       "Zmed               1\n",
       "Slope              1\n",
       "Aspect             1\n",
       "Lmax               1\n",
       "Status             0\n",
       "Connect            1\n",
       "Form               1\n",
       "TermType           1\n",
       "Surging            1\n",
       "Linkages           1\n",
       "Name          160696\n",
       "Vmed           10619\n",
       "Vmax           10438\n",
       "Viqr           10529\n",
       "Zmed_new          50\n",
       "Zmax_new           0\n",
       "Zmin_new         497\n",
       "Ziqr_new          34\n",
       "Smed            4206\n",
       "Smin            4206\n",
       "Smax            4206\n",
       "Siqr            4206\n",
       "Hmed            8094\n",
       "Hmax            3911\n",
       "Hiqr            3760\n",
       "Area_new_k    201499\n",
       "geometry           0\n",
       "file               0\n",
       "dtype: int64"
      ]
     },
     "metadata": {},
     "execution_count": 61
    }
   ],
   "source": [
    "#Vérification des attributs nuls\n",
    "clean_gdf.isnull( ).sum( )\n"
   ]
  },
  {
   "cell_type": "code",
   "execution_count": 62,
   "metadata": {},
   "outputs": [
    {
     "output_type": "execute_result",
     "data": {
      "text/plain": [
       "10619"
      ]
     },
     "metadata": {},
     "execution_count": 62
    }
   ],
   "source": [
    "#display all columns\n",
    "pd.set_option('display.max_columns', None)\n",
    "iVmednull=clean_gdf.loc[clean_gdf['Vmed'].isnull()]\n",
    "len(iVmednull)"
   ]
  },
  {
   "cell_type": "code",
   "execution_count": 67,
   "metadata": {
    "tags": []
   },
   "outputs": [
    {
     "output_type": "stream",
     "name": "stdout",
     "text": [
      "['01' '16' '04' '03' '17' '10' '12' '05' '13' '15' '14' '18' '08' '09'\n '02']\nRGI_WEST_CANADA_3B_Millanetal_v05May2021_3857.shp                  2246\nRGI_WEST_CANADA_2B_Millanetal_v05May2021_3857.shp                  1527\nRGI_HIMALAYA_EASTERN_Millanetal_v04May2021_3857.shp                1442\nRGI_NORWAY_2_Millanetal_v06May2021_3857.shp                         666\nRGI_HIMALAYA_KUNLUN2_Millanetal_v05May2021_3857.shp                 526\nRGI_HIMALAYA_KARAKORAM_Millanetal_v05May2021_3857.shp               487\nRGI_NORWAY_1_Millanetal_v06May2021_3857.shp                         442\nRGI_WEST_CANADA_1B_Millanetal_v04May2021_3857.shp                   415\nRGI_HIMALAYA_INNERTP2_Millanetal_v05May2021_3857.shp                344\nRGI_CANADIAN_ARCTIC_Millanetal_v06May2021_3857.shp                  333\nRGI_ANDES_CROYAL_Millanetal_v04May2021_3857.shp                     305\nRGI_BAFFIN_1_Millanetal_v05May2021_3857.shp                         255\nRGI_ANDES_CBLANCA_Millanetal_v05May2021_3857.shp                    243\nRGI_CORDILLERA_SOUTH_6_Millanetal_v05May2021_3857.shp               221\nRGI_WEST_CANADA_4B_Millanetal_v18May2021_3857.shp                   208\nRGI_EAST_RUSSIA_2_Millanetal_v04May2021_3857.shp                    185\nRGI_BAFFIN_2_Millanetal_v06May2021_3857.shp                         133\nRGI_ALASKA_Millanetal_v29Apr2021_3857.shp                           116\nRGI_CORDILLERA_SOUTH_3_Millanetal_v04May2021_3857.shp                99\nRGI_GREENLAND_CENTRALEAST_Millanetal_v06May2021_3857.shp             83\nRGI_HIMALAYA_WEST_Millanetal_v05May2021_3857.shp                     71\nRGI_GREENLAND_NORTHEAST_Millanetal_v06May2021_3857.shp               70\nRGI_GEORGIA_Millanetal_v05May2021_3857.shp                           63\nRGI_GREENLAND_SOUTHEAST_Millanetal_v18May2021_3857.shp               45\nRGI_CORDILLERA_SOUTH_5_Millanetal_v06May2021_3857.shp                31\nRGI_RUSSIAN_ARCTIC_NOVAYA_ZEMLYA_Millanetal_v06May2021_3857.shp      25\nRGI_EAST_RUSSIA_1_Millanetal_v05May2021_3857.shp                     13\nRGI_GREENLAND_NORTHWEST_Millanetal_v05May2021_3857.shp                9\nRGI_NEW_ZEALAND_Millanetal_v05May2021_3857.shp                        8\nRGI_CORDILLERA_SOUTH_7_Millanetal_v05May2021_3857.shp                 3\nRGI_HIMALAYA_BHUTAN_Millanetal_v18May2021_3857.shp                    3\nRGI_GREENLAND_NORTH_Millanetal_v06May2021_3857.shp                    1\nRGI_CORDILLERADARWIN_CHILE_Millanetal_v06May2021_3857.shp             1\nName: file, dtype: int64\n"
     ]
    }
   ],
   "source": [
    "#identifier les régions d'appartenances\n",
    "print(iVmednull['RGIId'].str.slice(6,8,1).unique())\n",
    "print(iVmednull['file'].value_counts()) "
   ]
  },
  {
   "cell_type": "code",
   "execution_count": 23,
   "metadata": {},
   "outputs": [
    {
     "output_type": "execute_result",
     "data": {
      "text/plain": [
       "                 RGIId         GLIMSId   BgnDate   EndDate CenLon CenLat  \\\n",
       "92162   RGI60-13.51174  G082531E31034N  20090918  -9999999   82.0   31.0   \n",
       "92653   RGI60-13.51174  G082531E31034N  20090918  -9999999   82.0   31.0   \n",
       "102672  RGI60-13.51174  G082531E31034N  20090918  -9999999   82.0   31.0   \n",
       "\n",
       "       O1Region O2Region Area    Zmin    Zmax    Zmed Slope Aspect   Lmax  \\\n",
       "92162        13        8  0.0  6220.0  6296.0  6257.0  22.0   93.0  177.0   \n",
       "92653        13        8  0.0  6220.0  6296.0  6257.0  22.0   93.0  177.0   \n",
       "102672       13        8  0.0  6220.0  6296.0  6257.0  22.0   93.0  177.0   \n",
       "\n",
       "       Status Connect Form TermType Surging Linkages  Name  Vmed   Vmax  Viqr  \\\n",
       "92162       0     0.0  0.0      0.0     9.0      9.0  None  2.42  22.96  1.82   \n",
       "92653       0     0.0  0.0      0.0     9.0      9.0  None  2.42  22.96  1.82   \n",
       "102672      0     0.0  0.0      0.0     9.0      9.0  None   NaN    NaN   NaN   \n",
       "\n",
       "        Zmed_new  Zmax_new  Zmin_new  Ziqr_new  Smed  Smin  Smax  Siqr  Hmed  \\\n",
       "92162     6240.0      6289    6193.0      46.0  0.61   0.6  0.62  0.01  11.0   \n",
       "92653     6240.0      6289    6193.0      46.0  0.61   0.6  0.62  0.01  11.0   \n",
       "102672    6262.0      6312    6196.0      52.0   NaN   NaN   NaN   NaN   0.0   \n",
       "\n",
       "        Hmax  Hiqr Area_new_k  \\\n",
       "92162   25.0  16.0       None   \n",
       "92653   25.0  16.0       None   \n",
       "102672   5.0   1.0       None   \n",
       "\n",
       "                                                 geometry  \n",
       "92162   POLYGON ((9187391.715 3637364.446, 9187395.330...  \n",
       "92653   POLYGON ((9187391.715 3637364.446, 9187395.330...  \n",
       "102672  POLYGON ((9187391.715 3637364.446, 9187395.330...  "
      ],
      "text/html": "<div>\n<style scoped>\n    .dataframe tbody tr th:only-of-type {\n        vertical-align: middle;\n    }\n\n    .dataframe tbody tr th {\n        vertical-align: top;\n    }\n\n    .dataframe thead th {\n        text-align: right;\n    }\n</style>\n<table border=\"1\" class=\"dataframe\">\n  <thead>\n    <tr style=\"text-align: right;\">\n      <th></th>\n      <th>RGIId</th>\n      <th>GLIMSId</th>\n      <th>BgnDate</th>\n      <th>EndDate</th>\n      <th>CenLon</th>\n      <th>CenLat</th>\n      <th>O1Region</th>\n      <th>O2Region</th>\n      <th>Area</th>\n      <th>Zmin</th>\n      <th>Zmax</th>\n      <th>Zmed</th>\n      <th>Slope</th>\n      <th>Aspect</th>\n      <th>Lmax</th>\n      <th>Status</th>\n      <th>Connect</th>\n      <th>Form</th>\n      <th>TermType</th>\n      <th>Surging</th>\n      <th>Linkages</th>\n      <th>Name</th>\n      <th>Vmed</th>\n      <th>Vmax</th>\n      <th>Viqr</th>\n      <th>Zmed_new</th>\n      <th>Zmax_new</th>\n      <th>Zmin_new</th>\n      <th>Ziqr_new</th>\n      <th>Smed</th>\n      <th>Smin</th>\n      <th>Smax</th>\n      <th>Siqr</th>\n      <th>Hmed</th>\n      <th>Hmax</th>\n      <th>Hiqr</th>\n      <th>Area_new_k</th>\n      <th>geometry</th>\n    </tr>\n  </thead>\n  <tbody>\n    <tr>\n      <th>92162</th>\n      <td>RGI60-13.51174</td>\n      <td>G082531E31034N</td>\n      <td>20090918</td>\n      <td>-9999999</td>\n      <td>82.0</td>\n      <td>31.0</td>\n      <td>13</td>\n      <td>8</td>\n      <td>0.0</td>\n      <td>6220.0</td>\n      <td>6296.0</td>\n      <td>6257.0</td>\n      <td>22.0</td>\n      <td>93.0</td>\n      <td>177.0</td>\n      <td>0</td>\n      <td>0.0</td>\n      <td>0.0</td>\n      <td>0.0</td>\n      <td>9.0</td>\n      <td>9.0</td>\n      <td>None</td>\n      <td>2.42</td>\n      <td>22.96</td>\n      <td>1.82</td>\n      <td>6240.0</td>\n      <td>6289</td>\n      <td>6193.0</td>\n      <td>46.0</td>\n      <td>0.61</td>\n      <td>0.6</td>\n      <td>0.62</td>\n      <td>0.01</td>\n      <td>11.0</td>\n      <td>25.0</td>\n      <td>16.0</td>\n      <td>None</td>\n      <td>POLYGON ((9187391.715 3637364.446, 9187395.330...</td>\n    </tr>\n    <tr>\n      <th>92653</th>\n      <td>RGI60-13.51174</td>\n      <td>G082531E31034N</td>\n      <td>20090918</td>\n      <td>-9999999</td>\n      <td>82.0</td>\n      <td>31.0</td>\n      <td>13</td>\n      <td>8</td>\n      <td>0.0</td>\n      <td>6220.0</td>\n      <td>6296.0</td>\n      <td>6257.0</td>\n      <td>22.0</td>\n      <td>93.0</td>\n      <td>177.0</td>\n      <td>0</td>\n      <td>0.0</td>\n      <td>0.0</td>\n      <td>0.0</td>\n      <td>9.0</td>\n      <td>9.0</td>\n      <td>None</td>\n      <td>2.42</td>\n      <td>22.96</td>\n      <td>1.82</td>\n      <td>6240.0</td>\n      <td>6289</td>\n      <td>6193.0</td>\n      <td>46.0</td>\n      <td>0.61</td>\n      <td>0.6</td>\n      <td>0.62</td>\n      <td>0.01</td>\n      <td>11.0</td>\n      <td>25.0</td>\n      <td>16.0</td>\n      <td>None</td>\n      <td>POLYGON ((9187391.715 3637364.446, 9187395.330...</td>\n    </tr>\n    <tr>\n      <th>102672</th>\n      <td>RGI60-13.51174</td>\n      <td>G082531E31034N</td>\n      <td>20090918</td>\n      <td>-9999999</td>\n      <td>82.0</td>\n      <td>31.0</td>\n      <td>13</td>\n      <td>8</td>\n      <td>0.0</td>\n      <td>6220.0</td>\n      <td>6296.0</td>\n      <td>6257.0</td>\n      <td>22.0</td>\n      <td>93.0</td>\n      <td>177.0</td>\n      <td>0</td>\n      <td>0.0</td>\n      <td>0.0</td>\n      <td>0.0</td>\n      <td>9.0</td>\n      <td>9.0</td>\n      <td>None</td>\n      <td>NaN</td>\n      <td>NaN</td>\n      <td>NaN</td>\n      <td>6262.0</td>\n      <td>6312</td>\n      <td>6196.0</td>\n      <td>52.0</td>\n      <td>NaN</td>\n      <td>NaN</td>\n      <td>NaN</td>\n      <td>NaN</td>\n      <td>0.0</td>\n      <td>5.0</td>\n      <td>1.0</td>\n      <td>None</td>\n      <td>POLYGON ((9187391.715 3637364.446, 9187395.330...</td>\n    </tr>\n  </tbody>\n</table>\n</div>"
     },
     "metadata": {},
     "execution_count": 23
    }
   ],
   "source": [
    "#display all columns\n",
    "pd.set_option('display.max_columns', None)\n",
    "# check doublons for a specific id\n",
    "doublons = clean_gdf.loc[clean_gdf['RGIId']== 'RGI60-13.51174']\n",
    "doublons.head(3)"
   ]
  },
  {
   "cell_type": "code",
   "execution_count": null,
   "metadata": {},
   "outputs": [],
   "source": [
    "# generate the report\n",
    "profile = ProfileReport(gdf, title=\"Pandas Profiling Report\")"
   ]
  },
  {
   "cell_type": "code",
   "execution_count": null,
   "metadata": {},
   "outputs": [],
   "source": [
    "#save geodataframe as pickle\n",
    "gdf.to_pickle('/mnt/d/3_DataViz/2_glaciers/2_shp/duplicated_glaciers.pkl')"
   ]
  },
  {
   "cell_type": "code",
   "execution_count": null,
   "metadata": {},
   "outputs": [],
   "source": []
  }
 ]
}